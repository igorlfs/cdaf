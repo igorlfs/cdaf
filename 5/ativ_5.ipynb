{
  "cells": [
    {
      "cell_type": "code",
      "metadata": {
        "jukit_cell_id": "BJPjA64UOW"
      },
      "source": [
        "import numpy as np\n",
        "import pandas as pd\n",
        "import sklearn.metrics as mt\n",
        "import socceraction.spadl as spd\n",
        "import socceraction.vaep.formula as fm\n",
        "import socceraction.vaep.labels as lab\n",
        "import xgboost as xgb\n",
        "from socceraction.vaep import features as ft\n",
        "from tqdm import tqdm"
      ],
      "outputs": [],
      "execution_count": null
    },
    {
      "cell_type": "markdown",
      "metadata": {
        "jukit_cell_id": "HcdimilNSO"
      },
      "source": [
        "# [CDAF] Atividade 5"
      ]
    },
    {
      "cell_type": "markdown",
      "metadata": {
        "jukit_cell_id": "hLAizgR43A"
      },
      "source": [
        "## Nome e matr\u00edcula\n",
        "Nome: Igor Lacerda Faria da Silva\n",
        "Matr\u00edcula: 2020041973"
      ]
    },
    {
      "cell_type": "markdown",
      "metadata": {
        "jukit_cell_id": "eTEN6LlswT"
      },
      "source": [
        "## Refer\u00eancias\n",
        "- [1] https://tomdecroos.github.io/reports/kdd19_tomd.pdf\n",
        "- [2] https://socceraction.readthedocs.io/en/latest/api/vaep.html\n",
        "- [3] https://socceraction.readthedocs.io/en/latest/documentation/valuing_actions/vaep.html\n",
        "- [4] https://github.com/ML-KULeuven/socceraction/tree/master/public-notebooks"
      ]
    },
    {
      "cell_type": "markdown",
      "metadata": {
        "jukit_cell_id": "UfZk8nA4aW"
      },
      "source": [
        "## Introdu\u00e7\u00e3o\n",
        "- Nessa atividade, temos implementada a pipeline inteira do VAEP [1] para os dados do Wyscout das Top 5 ligas.\n",
        "- [2] \u00e9 a documenta\u00e7\u00e3o das fun\u00e7\u00f5es do VAEP na API do socceraction.\n",
        "- [3] apresenta uma explica\u00e7\u00e3o do framework com uma mistura de intui\u00e7\u00e3o, matem\u00e1tica e c\u00f3digo.\n",
        "- [4] s\u00e3o notebooks p\u00fablicos que implementam o VAEP para outro conjunto de dados."
      ]
    },
    {
      "cell_type": "markdown",
      "metadata": {
        "jukit_cell_id": "3X0En2XvDE"
      },
      "source": [
        "## Instru\u00e7\u00f5es\n",
        "- Para cada header do notebook abaixo, voc\u00eas devem explicar o que foi feito e \u00e0 qual se\u00e7\u00e3o/subse\u00e7\u00e3o/equa\u00e7\u00e3o do paper \"Actions Speak Louder than Goals: Valuing Actions by Estimating Probabilities\" ela corresponde. Justifique suas respostas.\n",
        "- Al\u00e9m disso, ap\u00f3s algumas partes do c\u00f3digo haver\u00e3o perguntas que voc\u00eas devem responder, possivelmente explorando minimamente o que j\u00e1 est\u00e1 pronto.\n",
        "- Por fim, voc\u00eas devem montar um diagrama do fluxo de fun\u00e7\u00f5es/tarefas de toda a pipeline do VAEP abaixo. Esse diagrama deve ser enviado como arquivo na submiss\u00e3o do Moodle, para al\u00e9m deste notebook."
      ]
    },
    {
      "cell_type": "markdown",
      "metadata": {
        "jukit_cell_id": "XQkZNMWco6"
      },
      "source": [
        "### Carregando os dados"
      ]
    },
    {
      "cell_type": "code",
      "metadata": {
        "jukit_cell_id": "gaWTmOmxs2"
      },
      "source": [
        "def load_matches(path):\n",
        "    matches = pd.read_json(path_or_buf=path)\n",
        "    # as informa\u00e7\u00f5es dos times de cada partida est\u00e3o em um dicion\u00e1rio dentro da coluna 'teamsData', ent\u00e3o vamos separar essas informa\u00e7\u00f5es\n",
        "    team_matches = []\n",
        "    for i in range(len(matches)):\n",
        "        match = pd.DataFrame(matches.loc[i, \"teamsData\"]).T\n",
        "        match[\"matchId\"] = matches.loc[i, \"wyId\"]\n",
        "        team_matches.append(match)\n",
        "    team_matches = pd.concat(team_matches).reset_index(drop=True)\n",
        "\n",
        "    return team_matches"
      ],
      "outputs": [],
      "execution_count": null
    },
    {
      "cell_type": "code",
      "metadata": {
        "jukit_cell_id": "2TDG5hFAVC"
      },
      "source": [
        "def load_players(path):\n",
        "    players = pd.read_json(path_or_buf=path)\n",
        "    players[\"player_name\"] = players[\"firstName\"] + \" \" + players[\"lastName\"]\n",
        "    players = players[[\"wyId\", \"player_name\"]].rename(columns={\"wyId\": \"player_id\"})\n",
        "\n",
        "    return players"
      ],
      "outputs": [],
      "execution_count": null
    },
    {
      "cell_type": "code",
      "metadata": {
        "jukit_cell_id": "aoFY2dqlZL"
      },
      "source": [
        "def load_events(path):\n",
        "    events = pd.read_json(path_or_buf=path)\n",
        "    # pr\u00e9 processamento em colunas da tabela de eventos para facilitar a convers\u00e3o p/ SPADL\n",
        "    events = events.rename(\n",
        "        columns={\n",
        "            \"id\": \"event_id\",\n",
        "            \"eventId\": \"type_id\",\n",
        "            \"subEventId\": \"subtype_id\",\n",
        "            \"teamId\": \"team_id\",\n",
        "            \"playerId\": \"player_id\",\n",
        "            \"matchId\": \"game_id\",\n",
        "        }\n",
        "    )\n",
        "    events[\"milliseconds\"] = events[\"eventSec\"] * 1000\n",
        "    events[\"period_id\"] = events[\"matchPeriod\"].replace({\"1H\": 1, \"2H\": 2})\n",
        "\n",
        "    return events"
      ],
      "outputs": [],
      "execution_count": null
    },
    {
      "cell_type": "code",
      "metadata": {
        "jukit_cell_id": "2qJhyNiPoy"
      },
      "source": [
        "def load_minutes_played_per_game(path):\n",
        "    minutes = pd.read_json(path_or_buf=path)\n",
        "    minutes = minutes.rename(\n",
        "        columns={\n",
        "            \"playerId\": \"player_id\",\n",
        "            \"matchId\": \"game_id\",\n",
        "            \"teamId\": \"team_id\",\n",
        "            \"minutesPlayed\": \"minutes_played\",\n",
        "        }\n",
        "    )\n",
        "    minutes = minutes.drop([\"shortName\", \"teamName\", \"red_card\"], axis=1)\n",
        "\n",
        "    return minutes"
      ],
      "outputs": [],
      "execution_count": null
    },
    {
      "cell_type": "code",
      "metadata": {
        "jukit_cell_id": "DEqAn2f7yV"
      },
      "source": [
        "BASE_DIR = \"data\""
      ],
      "outputs": [],
      "execution_count": null
    },
    {
      "cell_type": "code",
      "metadata": {
        "jukit_cell_id": "u9ATh7fwz4"
      },
      "source": [
        "leagues = [\"England\", \"Spain\"]\n",
        "events = {}\n",
        "matches = {}\n",
        "minutes = {}\n",
        "for league in leagues:\n",
        "    path = f\"{BASE_DIR}/matches/matches_{league}.json\"\n",
        "    matches[league] = load_matches(path)\n",
        "    path = f\"{BASE_DIR}/events/events_{league}.json\"\n",
        "    events[league] = load_events(path)\n",
        "    path = f\"{BASE_DIR}/minutes_played/minutes_played_per_game_{league}.json\"\n",
        "    minutes[league] = load_minutes_played_per_game(path)"
      ],
      "outputs": [],
      "execution_count": null
    },
    {
      "cell_type": "code",
      "metadata": {
        "jukit_cell_id": "skKxnSZR0C"
      },
      "source": [
        "path = f\"{BASE_DIR}/players.json\"\n",
        "players = load_players(path)\n",
        "players[\"player_name\"] = players[\"player_name\"].str.decode(\"unicode-escape\")"
      ],
      "outputs": [],
      "execution_count": null
    },
    {
      "cell_type": "markdown",
      "metadata": {
        "jukit_cell_id": "IipevwMpMf"
      },
      "source": [
        "#### An\u00e1lise\n",
        "\n",
        "Eu diria que esse trecho faz refer\u00eancia \u00e0 subse\u00e7\u00e3o 2.1 do artigo, pois consiste em um pr\u00e9-processamento para carregar os dados, que depois v\u00e3o ser convertidos no formato SPADL. Esse trecho explora como os formatos de dados de diferentes provedoras *n\u00e3o s\u00e3o* uniformes, e mostra como \u00e9 o pr\u00e9-processamento de dados do Wyscout."
      ]
    },
    {
      "cell_type": "markdown",
      "metadata": {
        "jukit_cell_id": "7GU6Nij1Sk"
      },
      "source": [
        "### SPADL"
      ]
    },
    {
      "cell_type": "code",
      "metadata": {
        "jukit_cell_id": "TlXRMEToNl"
      },
      "source": [
        "def spadl_transform(events, matches):\n",
        "    spadl = []\n",
        "    game_ids = events.game_id.unique().tolist()\n",
        "    for g in tqdm(game_ids):\n",
        "        match_events = events.loc[events.game_id == g]\n",
        "        match_home_id = matches.loc[\n",
        "            (matches.matchId == g) & (matches.side == \"home\"), \"teamId\"\n",
        "        ].values[0]\n",
        "        match_actions = spd.wyscout.convert_to_actions(\n",
        "            events=match_events, home_team_id=match_home_id\n",
        "        )\n",
        "        match_actions = spd.play_left_to_right(\n",
        "            actions=match_actions, home_team_id=match_home_id\n",
        "        )\n",
        "        match_actions = spd.add_names(match_actions)\n",
        "        spadl.append(match_actions)\n",
        "    spadl = pd.concat(spadl).reset_index(drop=True)\n",
        "\n",
        "    return spadl"
      ],
      "outputs": [],
      "execution_count": null
    },
    {
      "cell_type": "code",
      "metadata": {
        "jukit_cell_id": "odtvnbIgXx"
      },
      "source": [
        "spadl = {}\n",
        "for league in leagues:\n",
        "    spadl[league] = spadl_transform(events=events[league], matches=matches[league])"
      ],
      "outputs": [],
      "execution_count": null
    },
    {
      "cell_type": "markdown",
      "metadata": {
        "jukit_cell_id": "s7ZIbSv0AK"
      },
      "source": [
        "#### An\u00e1lise\n",
        "\n",
        "Esse trecho faz refer\u00eancia \u00e0 se\u00e7\u00e3o 2.2, pois os dados s\u00e3o transformados no formato SPADL."
      ]
    },
    {
      "cell_type": "markdown",
      "metadata": {
        "jukit_cell_id": "GwYf5oViDW"
      },
      "source": [
        "### Features"
      ]
    },
    {
      "cell_type": "code",
      "metadata": {
        "jukit_cell_id": "V8Upp1U1cs"
      },
      "source": [
        "def features_transform(spadl):\n",
        "    spadl.loc[spadl.result_id.isin([2, 3]), [\"result_id\"]] = 0\n",
        "    spadl.loc[spadl.result_name.isin([\"offside\", \"owngoal\"]), [\"result_name\"]] = \"fail\"\n",
        "\n",
        "    xfns = [\n",
        "        ft.actiontype_onehot,\n",
        "        ft.bodypart_onehot,\n",
        "        ft.result_onehot,\n",
        "        ft.goalscore,\n",
        "        ft.startlocation,\n",
        "        ft.endlocation,\n",
        "        ft.team,\n",
        "        ft.time,\n",
        "        ft.time_delta,\n",
        "    ]\n",
        "\n",
        "    features = []\n",
        "    for game in tqdm(np.unique(spadl.game_id).tolist()):\n",
        "        match_actions = spadl.loc[spadl.game_id == game].reset_index(drop=True)\n",
        "        match_states = ft.gamestates(actions=match_actions)\n",
        "        match_feats = pd.concat([fn(match_states) for fn in xfns], axis=1)\n",
        "        features.append(match_feats)\n",
        "    features = pd.concat(features).reset_index(drop=True)\n",
        "\n",
        "    return features"
      ],
      "outputs": [],
      "execution_count": null
    },
    {
      "cell_type": "markdown",
      "metadata": {
        "jukit_cell_id": "qnzGlbX73m"
      },
      "source": [
        "1- O que a primeira e a segunda linhas da fun\u00e7\u00e3o acima fazem? Qual sua hip\u00f3tese sobre intuito dessas transforma\u00e7\u00f5es? Como voc\u00ea acha que isso pode impactar o modelo final?"
      ]
    },
    {
      "cell_type": "markdown",
      "metadata": {
        "jukit_cell_id": "o2C5LjnjHz"
      },
      "source": [
        "#### Resposta\n",
        "\n",
        "No formato SPADL, existem mais de dois tipo de resultado para uma a\u00e7\u00e3o. Isto \u00e9, o resultado pode ser sucesso, falha ou outra coisa, que, no geral, pode ser considerada falha. Desse modo, o resultado dessas a\u00e7\u00f5es \u00e9 convertido para falha. Creio que impedimentos s\u00e3o um tanto que neutros para um time (ao menos n\u00e3o positivos), e fazer gols contra nem se fala, ent\u00e3o, a princ\u00edpio, n\u00e3o vejo como essa transforma\u00e7\u00e3o pode ser ruim. Imagino que isso n\u00e3o deve causar grandes impactos no modelo final, porque esses resultados s\u00e3o bastante incomuns."
      ]
    },
    {
      "cell_type": "code",
      "metadata": {
        "jukit_cell_id": "isy658XzVU"
      },
      "source": [
        "features = {}\n",
        "for league in [\"England\", \"Spain\"]:\n",
        "    features[league] = features_transform(spadl[league])"
      ],
      "outputs": [],
      "execution_count": null
    },
    {
      "cell_type": "markdown",
      "metadata": {
        "jukit_cell_id": "8FPGvvkwl5"
      },
      "source": [
        "#### An\u00e1lise\n",
        "\n",
        "Esse trecho faz alus\u00e3o \u00e0 subse\u00e7\u00e3o 4.2 do artigo, em que s\u00e3o feitos ajustes nos dados para que o desempenho dos modelos seja melhor."
      ]
    },
    {
      "cell_type": "markdown",
      "metadata": {
        "jukit_cell_id": "RxLHqKEgg8"
      },
      "source": [
        "### Labels"
      ]
    },
    {
      "cell_type": "code",
      "metadata": {
        "jukit_cell_id": "C1lfwTjL9K"
      },
      "source": [
        "def labels_transform(spadl):\n",
        "    yfns = [lab.scores, lab.concedes]\n",
        "\n",
        "    labels = []\n",
        "    for game in tqdm(np.unique(spadl.game_id).tolist()):\n",
        "        match_actions = spadl.loc[spadl.game_id == game].reset_index(drop=True)\n",
        "        labels.append(pd.concat([fn(actions=match_actions) for fn in yfns], axis=1))\n",
        "\n",
        "    labels = pd.concat(labels).reset_index(drop=True)\n",
        "\n",
        "    return labels"
      ],
      "outputs": [],
      "execution_count": null
    },
    {
      "cell_type": "code",
      "metadata": {
        "jukit_cell_id": "pHuJ6k81e2"
      },
      "source": [
        "labels = {}\n",
        "for league in [\"England\", \"Spain\"]:\n",
        "    labels[league] = labels_transform(spadl[league])"
      ],
      "outputs": [],
      "execution_count": null
    },
    {
      "cell_type": "code",
      "metadata": {
        "jukit_cell_id": "tQPa5j9R65"
      },
      "source": [
        "labels[\"England\"][\"scores\"].sum()"
      ],
      "outputs": [
        {
          "output_type": "stream",
          "name": "stdout",
          "text": "\n"
        },
        {
          "output_type": "execute_result",
          "execution_count": 1,
          "data": {
            "text/plain": "7553"
          },
          "metadata": {}
        }
      ],
      "execution_count": 1
    },
    {
      "cell_type": "code",
      "metadata": {
        "jukit_cell_id": "RIus8NBNKl"
      },
      "source": [
        "labels[\"England\"][\"concedes\"].sum()"
      ],
      "outputs": [
        {
          "output_type": "stream",
          "name": "stdout",
          "text": "\n"
        },
        {
          "output_type": "execute_result",
          "execution_count": 2,
          "data": {
            "text/plain": "2313"
          },
          "metadata": {}
        }
      ],
      "execution_count": 2
    },
    {
      "cell_type": "markdown",
      "metadata": {
        "jukit_cell_id": "NJv73A6tmv"
      },
      "source": [
        "2- Explique o por que da quantidade de labels positivos do tipo scores ser muito maior que do concedes. Como voc\u00ea acha que isso pode impactar o modelo final?"
      ]
    },
    {
      "cell_type": "markdown",
      "metadata": {
        "jukit_cell_id": "AXOmKnRaO1"
      },
      "source": [
        "#### Resposta\n",
        "\n",
        "Geralmente, a maioria das a\u00e7\u00f5es que os jogadores fazem, tem como objetivo aumentar a chance de fazer gols. Dessa maneira, o esperado \u00e9 que existam menos a\u00e7\u00f5es em que o efeito contr\u00e1rio \u00e9 atingido. Isso impacta fortemente o treinamento do modelo, uma vez que ele pode ficar enviesado para labels positivos do tipo *scores*."
      ]
    },
    {
      "cell_type": "markdown",
      "metadata": {
        "jukit_cell_id": "ecTJVvkmLO"
      },
      "source": [
        "#### An\u00e1lise\n",
        "\n",
        "Neste trecho, s\u00e3o constru\u00eddas as labels da se\u00e7\u00e3o 4.1. Isso \u00e9 bem sugestivo pelo `yfns` da fun\u00e7\u00e3o `labels_transform`."
      ]
    },
    {
      "cell_type": "markdown",
      "metadata": {
        "jukit_cell_id": "QVAs4CfEjJ"
      },
      "source": [
        "### Training Model"
      ]
    },
    {
      "cell_type": "code",
      "metadata": {
        "jukit_cell_id": "kSvTgyHOTq"
      },
      "source": [
        "def train_vaep(X_train, y_train, X_test, y_test):\n",
        "    models = {}\n",
        "    for m in [\"scores\", \"concedes\"]:\n",
        "        models[m] = xgb.XGBClassifier(random_state=0, n_estimators=50, max_depth=3)\n",
        "\n",
        "        print(\"training \" + m + \" model\")\n",
        "        models[m].fit(X_train, y_train[m])\n",
        "\n",
        "        p = sum(y_train[m]) / len(y_train[m])\n",
        "        base = [p] * len(y_train[m])\n",
        "        y_train_pred = models[m].predict_proba(X_train)[:, 1]\n",
        "        train_brier = mt.brier_score_loss(\n",
        "            y_train[m], y_train_pred\n",
        "        ) / mt.brier_score_loss(y_train[m], base)\n",
        "        print(m + \" Train NBS: \" + str(train_brier))\n",
        "        print()\n",
        "\n",
        "        p = sum(y_test[m]) / len(y_test[m])\n",
        "        base = [p] * len(y_test[m])\n",
        "        y_test_pred = models[m].predict_proba(X_test)[:, 1]\n",
        "        test_brier = mt.brier_score_loss(y_test[m], y_test_pred) / mt.brier_score_loss(\n",
        "            y_test[m], base\n",
        "        )\n",
        "        print(m + \" Test NBS: \" + str(test_brier))\n",
        "        print()\n",
        "\n",
        "        print(\"----------------------------------------\")\n",
        "\n",
        "    return models"
      ],
      "outputs": [],
      "execution_count": null
    },
    {
      "cell_type": "code",
      "metadata": {
        "jukit_cell_id": "nYpsaX76jJ"
      },
      "source": [
        "models = train_vaep(\n",
        "    X_train=features[\"England\"],\n",
        "    y_train=labels[\"England\"],\n",
        "    X_test=features[\"Spain\"],\n",
        "    y_test=labels[\"Spain\"],\n",
        ")"
      ],
      "outputs": [
        {
          "output_type": "stream",
          "name": "stdout",
          "text": "training scores model\nscores Train NBS: 0.8452154331687597\n\nscores Test NBS: 0.850366923253325\n\n----------------------------------------\ntraining concedes model\nconcedes Train NBS: 0.964463215550682\n\nconcedes Test NBS: 0.9745272575372074\n\n----------------------------------------\n"
        }
      ],
      "execution_count": 3
    },
    {
      "cell_type": "markdown",
      "metadata": {
        "jukit_cell_id": "3RXs7t54XU"
      },
      "source": [
        "3- Por que treinamos dois modelos diferentes? Por que a performance dos dois \u00e9 diferente?"
      ]
    },
    {
      "cell_type": "markdown",
      "metadata": {
        "jukit_cell_id": "qtX0EhYBiB"
      },
      "source": [
        "#### Resposta\n",
        "\n",
        "As a\u00e7\u00f5es que favorecem um gol n\u00e3o necessariamente desfavorecem um gol do time inimigo, isto \u00e9, essas probabilidades n\u00e3o s\u00e3o complementares. Estranhamente, mesmo com menos dados, o `concedes` tem uma performance melhor. Isso deve acontecer pois as a\u00e7\u00f5es que aumentam a chance de levar gol s\u00e3o mais bem definidas (possuem uma vari\u00e2ncia menor) do que as a\u00e7\u00f5es que levam o time a fazer gols."
      ]
    },
    {
      "cell_type": "markdown",
      "metadata": {
        "jukit_cell_id": "lWq5IxppV9"
      },
      "source": [
        "#### An\u00e1lise\n",
        "\n",
        "Esse cabe\u00e7alho faz rever\u00eancia \u00e0 se\u00e7\u00e3o 4, em que \u00e9 apresentada discuss\u00e3o do c\u00e1lculo do VAEP e os algoritmos."
      ]
    },
    {
      "cell_type": "markdown",
      "metadata": {
        "jukit_cell_id": "KJrfrH1Zy3"
      },
      "source": [
        "### Predictions"
      ]
    },
    {
      "cell_type": "code",
      "metadata": {
        "jukit_cell_id": "NwjetmT2y1"
      },
      "source": [
        "def generate_predictions(features, models):\n",
        "    preds = {}\n",
        "    for m in [\"scores\", \"concedes\"]:\n",
        "        preds[m] = models[m].predict_proba(features)[:, 1]\n",
        "    preds = pd.DataFrame(preds)\n",
        "\n",
        "    return preds"
      ],
      "outputs": [],
      "execution_count": null
    },
    {
      "cell_type": "code",
      "metadata": {
        "jukit_cell_id": "HClRRXr88n"
      },
      "source": [
        "preds = {}\n",
        "preds[\"Spain\"] = generate_predictions(features=features[\"Spain\"], models=models)\n",
        "preds[\"Spain\"]"
      ],
      "outputs": [
        {
          "output_type": "stream",
          "name": "stdout",
          "text": "\n"
        },
        {
          "output_type": "execute_result",
          "execution_count": 4,
          "data": {
            "text/plain": "          scores  concedes\n0       0.004560  0.000367\n1       0.003573  0.000347\n2       0.002895  0.000345\n3       0.002162  0.000318\n4       0.002424  0.001799\n...          ...       ...\n473889  0.033276  0.002812\n473890  0.041886  0.002787\n473891  0.017484  0.004722\n473892  0.007541  0.012254\n473893  0.005007  0.047561\n\n[473894 rows x 2 columns]"
          },
          "metadata": {}
        }
      ],
      "execution_count": 4
    },
    {
      "cell_type": "markdown",
      "metadata": {
        "jukit_cell_id": "ghQVdZwJ8T"
      },
      "source": [
        "#### An\u00e1lise\n",
        "\n",
        "A se\u00e7\u00e3o 5, no geral, explora a performance do modelo, avaliando diferentes estat\u00edsticas, tal qual as previs\u00f5es s\u00e3o geradas neste cabe\u00e7alho."
      ]
    },
    {
      "cell_type": "markdown",
      "metadata": {
        "jukit_cell_id": "lBH1OivT7Q"
      },
      "source": [
        "### Action Values"
      ]
    },
    {
      "cell_type": "code",
      "metadata": {
        "jukit_cell_id": "ukDIEn6C96"
      },
      "source": [
        "def calculate_action_values(spadl, predictions):\n",
        "    action_values = fm.value(\n",
        "        actions=spadl, Pscores=predictions[\"scores\"], Pconcedes=predictions[\"concedes\"]\n",
        "    )\n",
        "    action_values = pd.concat(\n",
        "        [\n",
        "            spadl[\n",
        "                [\n",
        "                    \"original_event_id\",\n",
        "                    \"action_id\",\n",
        "                    \"game_id\",\n",
        "                    \"start_x\",\n",
        "                    \"start_y\",\n",
        "                    \"end_x\",\n",
        "                    \"end_y\",\n",
        "                    \"type_name\",\n",
        "                    \"result_name\",\n",
        "                    \"player_id\",\n",
        "                ]\n",
        "            ],\n",
        "            predictions.rename(columns={\"scores\": \"Pscores\", \"concedes\": \"Pconcedes\"}),\n",
        "            action_values,\n",
        "        ],\n",
        "        axis=1,\n",
        "    )\n",
        "\n",
        "    return action_values"
      ],
      "outputs": [],
      "execution_count": null
    },
    {
      "cell_type": "code",
      "metadata": {
        "jukit_cell_id": "XuO6zYgq9R"
      },
      "source": [
        "action_values = {}\n",
        "action_values[\"Spain\"] = calculate_action_values(\n",
        "    spadl=spadl[\"Spain\"], predictions=preds[\"Spain\"]\n",
        ")\n",
        "action_values[\"Spain\"]"
      ],
      "outputs": [
        {
          "output_type": "stream",
          "name": "stdout",
          "text": "\n"
        },
        {
          "output_type": "execute_result",
          "execution_count": 5,
          "data": {
            "text/plain": "       original_event_id  action_id  game_id  ...  offensive_value  defensive_value  vaep_value\n0              180864419          0  2565548  ...         0.000000        -0.000000    0.000000\n1              180864418          1  2565548  ...        -0.000987         0.000020   -0.000967\n2              180864420          2  2565548  ...        -0.000678         0.000002   -0.000676\n3              180864421          3  2565548  ...        -0.000733         0.000027   -0.000706\n4              180864422          4  2565548  ...         0.000262        -0.001481   -0.001219\n...                  ...        ...      ...  ...              ...              ...         ...\n473889         253302671       1482  2565927  ...         0.017300        -0.000799    0.016501\n473890         253302673       1483  2565927  ...         0.008610         0.000025    0.008635\n473891         253302674       1484  2565927  ...        -0.024402        -0.001935   -0.026337\n473892         253302698       1485  2565927  ...         0.002820         0.005230    0.008050\n473893         253302695       1486  2565927  ...        -0.002535        -0.035307   -0.037841\n\n[473894 rows x 15 columns]"
          },
          "metadata": {}
        }
      ],
      "execution_count": 5
    },
    {
      "cell_type": "code",
      "metadata": {
        "jukit_cell_id": "6JyvMHmD0v"
      },
      "source": [
        "valuable_actions = action_values[\"Spain\"].query(\"Pscores >= 0.95\")\n",
        "valuable_actions"
      ],
      "outputs": [
        {
          "output_type": "stream",
          "name": "stdout",
          "text": "\n"
        },
        {
          "output_type": "execute_result",
          "execution_count": 6,
          "data": {
            "text/plain": "       original_event_id  action_id  game_id  ...  offensive_value  defensive_value  vaep_value\n1466           180054901        321  2565549  ...         0.873940        -0.001370    0.872570\n1569           180055162        424  2565549  ...         0.962413         0.000043    0.962456\n1830           180055441        685  2565549  ...         0.857346        -0.000260    0.857086\n2190           180055988       1045  2565549  ...         0.880705        -0.000886    0.879819\n3881           180136736        340  2565551  ...         0.891102        -0.001473    0.889629\n...                  ...        ...      ...  ...              ...              ...         ...\n472245         253222480       1028  2565926  ...         0.931163        -0.000460    0.930703\n472594         253300739        187  2565927  ...         0.911694        -0.001317    0.910378\n472948         253301228        541  2565927  ...         0.854947        -0.000104    0.854843\n473572         253302208       1165  2565927  ...         0.920801         0.001016    0.921817\n473806         253302547       1399  2565927  ...         0.922795        -0.000122    0.922674\n\n[884 rows x 15 columns]"
          },
          "metadata": {}
        }
      ],
      "execution_count": 6
    },
    {
      "cell_type": "markdown",
      "metadata": {
        "jukit_cell_id": "jd6ERYc0f1"
      },
      "source": [
        "4- Explore as a\u00e7\u00f5es com Pscores >= 0.95. Por que elas tem um valor t\u00e3o alto? As compare com a\u00e7\u00f5es do mesmo tipo e resultado opostado. Ser\u00e1 que o modelo aprende que essa combina\u00e7\u00e3o de tipo de a\u00e7\u00e3o e resultado est\u00e1 diretamente relacionado \u00e0 vari\u00e1vel y que estamos tentando prever?\n",
        "\n",
        "5- Qual formula do paper corresponde \u00e0 coluna `offensive_value` do dataframe `action_values`? E a coluna `defensive_value`?"
      ]
    },
    {
      "cell_type": "markdown",
      "metadata": {
        "jukit_cell_id": "1d5iZK8TT4"
      },
      "source": [
        "#### Respostas\n",
        "\n",
        "4) Todas as a\u00e7\u00f5es com $P_{scores} \\geq 0.95$ s\u00e3o chutes (ao gol), que, no geral, incrementam muito a chance de se fazer gol. Por outro lado, quando essas a\u00e7\u00f5es d\u00e3o errado, elas diminuem muito a chance de se marcar. Outras a\u00e7\u00f5es n\u00e3o sofrem desse vi\u00e9s: essa altera\u00e7\u00e3o dr\u00e1stica ocorre exclusivamente com chutes. Dessa maneira, essas outras a\u00e7\u00f5es acabam n\u00e3o sendo t\u00e3o valorizadas.\n",
        "\n",
        "5) \u00c0s equa\u00e7\u00f5es 1 e 2, respectivamente."
      ]
    },
    {
      "cell_type": "markdown",
      "metadata": {
        "jukit_cell_id": "lm1xoWHkpf"
      },
      "source": [
        "#### An\u00e1lise\n",
        "\n",
        "N\u00e3o sei avaliar a qual se\u00e7\u00e3o este c\u00f3digo em particular se refere, uma vez que ele estende a tabela para conter os dados do trecho anterior."
      ]
    },
    {
      "cell_type": "markdown",
      "metadata": {
        "jukit_cell_id": "iW31CNT88F"
      },
      "source": [
        "### Player Ratings"
      ]
    },
    {
      "cell_type": "code",
      "metadata": {
        "jukit_cell_id": "eR4m86DzE3"
      },
      "source": [
        "def calculate_minutes_per_season(minutes_per_game):\n",
        "    minutes_per_season = minutes_per_game.groupby(\"player_id\", as_index=False)[\n",
        "        \"minutes_played\"\n",
        "    ].sum()\n",
        "\n",
        "    return minutes_per_season"
      ],
      "outputs": [],
      "execution_count": null
    },
    {
      "cell_type": "code",
      "metadata": {
        "jukit_cell_id": "23x9VDdjaf"
      },
      "source": [
        "minutes_per_season = {}\n",
        "minutes_per_season[\"Spain\"] = calculate_minutes_per_season(minutes[\"Spain\"])"
      ],
      "outputs": [],
      "execution_count": null
    },
    {
      "cell_type": "code",
      "metadata": {
        "jukit_cell_id": "XsA4cWzaZ4"
      },
      "source": [
        "def calculate_player_ratings(action_values, minutes_per_season, players):\n",
        "    player_ratings = (\n",
        "        action_values.groupby(by=\"player_id\", as_index=False)\n",
        "        .agg({\"vaep_value\": \"sum\"})\n",
        "        .rename(columns={\"vaep_value\": \"vaep_total\"})\n",
        "    )\n",
        "    player_ratings = player_ratings.merge(\n",
        "        minutes_per_season, on=[\"player_id\"], how=\"left\"\n",
        "    )\n",
        "    player_ratings[\"vaep_p90\"] = (\n",
        "        player_ratings[\"vaep_total\"] / player_ratings[\"minutes_played\"] * 90\n",
        "    )\n",
        "    player_ratings = (\n",
        "        player_ratings[player_ratings[\"minutes_played\"] >= 600]\n",
        "        .sort_values(by=\"vaep_p90\", ascending=False)\n",
        "        .reset_index(drop=True)\n",
        "    )\n",
        "    player_ratings = player_ratings.merge(players, on=[\"player_id\"], how=\"left\")\n",
        "    player_ratings = player_ratings[\n",
        "        [\"player_id\", \"player_name\", \"minutes_played\", \"vaep_total\", \"vaep_p90\"]\n",
        "    ]\n",
        "\n",
        "    return player_ratings"
      ],
      "outputs": [],
      "execution_count": null
    },
    {
      "cell_type": "code",
      "metadata": {
        "jukit_cell_id": "s4sTsYRC2y"
      },
      "source": [
        "player_ratings = {}\n",
        "player_ratings[\"Spain\"] = calculate_player_ratings(\n",
        "    action_values=action_values[\"Spain\"],\n",
        "    minutes_per_season=minutes_per_season[\"Spain\"],\n",
        "    players=players,\n",
        ")\n",
        "player_ratings[\"Spain\"].nlargest(5, \"vaep_p90\")"
      ],
      "outputs": [
        {
          "output_type": "stream",
          "name": "stdout",
          "text": "\n"
        },
        {
          "output_type": "execute_result",
          "execution_count": 7,
          "data": {
            "text/plain": "   player_id                          player_name  minutes_played  vaep_total  vaep_p90\n0       3359       Lionel Andr\u00e9s Messi Cuccittini          3108.0   35.891377  1.039326\n1       8278                    Gareth Frank Bale          1850.0   14.323647  0.696826\n2       3802            Philippe Coutinho Correia          1329.0   10.036555  0.679676\n3       3322  Cristiano Ronaldo dos Santos Aveiro          2355.0   17.279105  0.660348\n4       3682                    Antoine Griezmann          2591.0   18.149570  0.630437"
          },
          "metadata": {}
        }
      ],
      "execution_count": 7
    },
    {
      "cell_type": "markdown",
      "metadata": {
        "jukit_cell_id": "8sKuyQiUyI"
      },
      "source": [
        "6- Acha que o Top 5 da lista \u00e9 bem representativo? Compare esse ranqueamento do VAEP com o do xT da Atividade 4. Qual voc\u00ea acha que \u00e9 mais representativo?"
      ]
    },
    {
      "cell_type": "markdown",
      "metadata": {
        "jukit_cell_id": "IwTyj2y9Ej"
      },
      "source": [
        "#### Resposta\n",
        "\n",
        "Com toda certeza esse top 5 \u00e9 representativo, todos os jogadores s\u00e3o excepcionais. Eu diria que ele \u00e9 mais representativo que o Top 10 da atividade 4. Como apresentado no artigo, o VAEP tende a ser uma m\u00e9trica mais acurada para avaliar jogadores em diferentes contextos (tendo como base, por exemplo, o valor dos jogadores)."
      ]
    },
    {
      "cell_type": "markdown",
      "metadata": {
        "jukit_cell_id": "f3mByInik7"
      },
      "source": [
        "#### An\u00e1lise\n",
        "\n",
        "Este trecho final corresponde \u00e0 subse\u00e7\u00e3o 5.5, como \u00e9 evidente pelas avalia\u00e7\u00f5es dos jogadores."
      ]
    }
  ],
  "metadata": {
    "anaconda-cloud": {},
    "kernelspec": {
      "display_name": "python",
      "language": "python",
      "name": "python3"
    }
  },
  "nbformat": 4,
  "nbformat_minor": 4
}