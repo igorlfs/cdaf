{
  "cells": [
    {
      "cell_type": "code",
      "metadata": {
        "jukit_cell_id": "2uhdyWQsg5"
      },
      "source": [
        "import matplotsoccer as mps\n",
        "import numpy as np\n",
        "import pandas as pd\n",
        "import scipy\n",
        "import socceraction.spadl as spd\n",
        "from sklearn.decomposition import NMF\n",
        "from sklearn.metrics import pairwise_distances\n",
        "from tqdm import tqdm"
      ],
      "outputs": [],
      "execution_count": null
    },
    {
      "cell_type": "markdown",
      "metadata": {
        "jukit_cell_id": "WWtM8MPeQE"
      },
      "source": [
        "# [CDAF] Atividade 6"
      ]
    },
    {
      "cell_type": "markdown",
      "metadata": {
        "jukit_cell_id": "i6AxeXblOr"
      },
      "source": [
        "## Nome e matr\u00edcula\n",
        "Nome: Igor Lacerda Faria da Silva\n",
        "Matr\u00edcula: 2020041973"
      ]
    },
    {
      "cell_type": "markdown",
      "metadata": {
        "jukit_cell_id": "XgLYBas3nE"
      },
      "source": [
        "## Refer\u00eancias\n",
        "- [1] https://www.ecmlpkdd2019.org/downloads/paper/701.pdf\n",
        "- [2] https://dtai.cs.kuleuven.be/sports/blog/player-vectors:-characterizing-soccer-players'-playing-style\n",
        "- [3] https://dtai.cs.kuleuven.be/sports/player_vectors\n",
        "- [4] https://github.com/TomDecroos/matplotsocce"
      ]
    },
    {
      "cell_type": "markdown",
      "metadata": {
        "jukit_cell_id": "gsiPEJQTsP"
      },
      "source": [
        "## Introdu\u00e7\u00e3o\n",
        "- Nessa atividade, temos implementado o \"Player Vectors\", m\u00e9todo proposto em [1] para caracterizar o estilo de jogo de jogadores baseado nas localiza\u00e7\u00f5es que realizam cada tipo de a\u00e7\u00e3o.\n",
        "- [2] apresenta o conte\u00fado do paper em [1] de forma mais resumida e visual, em formato de blog.\n",
        "- [3] oferece uma demo interativa com uma aplica\u00e7\u00e3o do m\u00e9todo no contexto de comparar a similaridade entre jogadores.\n",
        "- [4] \u00e9 uma biblioteca para plotar visualiza\u00e7\u00f5es de partidas de futebol. Al\u00e9m disso, ela tem uma fun\u00e7\u00e3o pronta para criar heatmaps de a\u00e7\u00f5es de jogadores, que \u00e9 util para o nosso contexto."
      ]
    },
    {
      "cell_type": "markdown",
      "metadata": {
        "jukit_cell_id": "VKass3nYuL"
      },
      "source": [
        "## Intru\u00e7\u00f5es\n",
        "- Para cada header abaixo do notebook, voc\u00eas devem explicar o que foi feito e \u00e0 qual se\u00e7\u00e3o/subse\u00e7\u00e3o/equa\u00e7\u00e3o de [1] ela corresponde. Justifique suas respostas.\n",
        "- Al\u00e9m disso, voc\u00eas devem montar um diagrama do fluxo de fun\u00e7\u00f5es/tarefas de toda a pipeline do Player Vectors abaixo. Esse diagrama deve ser enviado como arquivo na submiss\u00e3o do Moodle, para al\u00e9m deste notebook."
      ]
    },
    {
      "cell_type": "markdown",
      "metadata": {
        "jukit_cell_id": "NODqkxz5Kp"
      },
      "source": [
        "### Carregando os dados"
      ]
    },
    {
      "cell_type": "code",
      "metadata": {
        "jukit_cell_id": "4zDdWYvBmp"
      },
      "source": [
        "def load_matches(path):\n",
        "    matches = pd.read_json(path_or_buf=path)\n",
        "    # as informa\u00e7\u00f5es dos times de cada partida est\u00e3o em um dicion\u00e1rio dentro da coluna 'teamsData', ent\u00e3o vamos separar essas informa\u00e7\u00f5es\n",
        "    team_matches = []\n",
        "    for i in range(len(matches)):\n",
        "        team_match = pd.DataFrame(matches.loc[i, \"teamsData\"]).T\n",
        "        team_match[\"matchId\"] = matches.loc[i, \"wyId\"]\n",
        "        team_matches.append(team_match)\n",
        "    team_matches = pd.concat(team_matches).reset_index(drop=True)\n",
        "\n",
        "    return matches, team_matches"
      ],
      "outputs": [],
      "execution_count": null
    },
    {
      "cell_type": "code",
      "metadata": {
        "jukit_cell_id": "gXqnnKz5ps"
      },
      "source": [
        "def get_position(x):\n",
        "    return x[\"name\"]\n",
        "\n",
        "\n",
        "def load_players(path):\n",
        "    players = pd.read_json(path_or_buf=path)\n",
        "    players[\"player_name\"] = players[\"firstName\"] + \" \" + players[\"lastName\"]\n",
        "    players[\"role\"] = players[\"role\"].apply(get_position)\n",
        "    players = players[[\"wyId\", \"player_name\", \"role\"]].rename(\n",
        "        columns={\"wyId\": \"player_id\"}\n",
        "    )\n",
        "\n",
        "    return players"
      ],
      "outputs": [],
      "execution_count": null
    },
    {
      "cell_type": "code",
      "metadata": {
        "jukit_cell_id": "mfMMslwBV7"
      },
      "source": [
        "def load_events(path):\n",
        "    events = pd.read_json(path_or_buf=path)\n",
        "    # pr\u00e9 processamento em colunas da tabela de eventos para facilitar a convers\u00e3o p/ SPADL\n",
        "    events = events.rename(\n",
        "        columns={\n",
        "            \"id\": \"event_id\",\n",
        "            \"eventId\": \"type_id\",\n",
        "            \"subEventId\": \"subtype_id\",\n",
        "            \"teamId\": \"team_id\",\n",
        "            \"playerId\": \"player_id\",\n",
        "            \"matchId\": \"game_id\",\n",
        "        }\n",
        "    )\n",
        "    events[\"milliseconds\"] = events[\"eventSec\"] * 1000\n",
        "    events[\"period_id\"] = events[\"matchPeriod\"].replace({\"1H\": 1, \"2H\": 2})\n",
        "\n",
        "    return events"
      ],
      "outputs": [],
      "execution_count": null
    },
    {
      "cell_type": "code",
      "metadata": {
        "jukit_cell_id": "9jNCorXUXh"
      },
      "source": [
        "def load_minutes_played_per_game(path):\n",
        "    minutes = pd.read_json(path_or_buf=path)\n",
        "    minutes = minutes.rename(\n",
        "        columns={\n",
        "            \"playerId\": \"player_id\",\n",
        "            \"matchId\": \"game_id\",\n",
        "            \"teamId\": \"team_id\",\n",
        "            \"minutesPlayed\": \"minutes_played\",\n",
        "        }\n",
        "    )\n",
        "    minutes = minutes.drop([\"shortName\", \"teamName\", \"red_card\"], axis=1)\n",
        "\n",
        "    return minutes"
      ],
      "outputs": [],
      "execution_count": null
    },
    {
      "cell_type": "code",
      "metadata": {
        "jukit_cell_id": "FBWX20TkuK"
      },
      "source": [
        "PATH_DATA = \"data/wyscout\""
      ],
      "outputs": [],
      "execution_count": null
    },
    {
      "cell_type": "code",
      "metadata": {
        "jukit_cell_id": "ugWIhvoNmO"
      },
      "source": [
        "leagues = [\"England\", \"Spain\"]\n",
        "events = {}\n",
        "matches = {}\n",
        "team_matches = {}\n",
        "minutes = {}\n",
        "for league in leagues:\n",
        "    path = f\"{PATH_DATA}/matches/matches_{league}.json\"\n",
        "    matches[league], team_matches[league] = load_matches(path)\n",
        "    path = f\"{PATH_DATA}/events/events_{league}.json\"\n",
        "    events[league] = load_events(path)\n",
        "    path = f\"{PATH_DATA}/minutes_played/minutes_played_per_game_{league}.json\"\n",
        "    minutes[league] = load_minutes_played_per_game(path)"
      ],
      "outputs": [],
      "execution_count": null
    },
    {
      "cell_type": "code",
      "metadata": {
        "jukit_cell_id": "8SUn98UWQu"
      },
      "source": [
        "path = f\"{PATH_DATA}/players.json\"\n",
        "players = load_players(path)\n",
        "players[\"player_name\"] = players[\"player_name\"].str.decode(\"unicode-escape\")"
      ],
      "outputs": [],
      "execution_count": null
    },
    {
      "cell_type": "code",
      "metadata": {
        "jukit_cell_id": "wjUzS5wa3n"
      },
      "source": [
        "def calculate_minutes_per_season(minutes_per_game):\n",
        "    minutes_per_season = minutes_per_game.groupby(\"player_id\", as_index=False)[\n",
        "        \"minutes_played\"\n",
        "    ].sum()\n",
        "\n",
        "    return minutes_per_season"
      ],
      "outputs": [],
      "execution_count": null
    },
    {
      "cell_type": "markdown",
      "metadata": {
        "jukit_cell_id": "4a0M8cmiHz"
      },
      "source": [
        "#### An\u00e1lise: este \u00e9 apenas um carregamento de dados que n\u00e3o corresponde a nenhuma se\u00e7\u00e3o do artigo [1]."
      ]
    },
    {
      "cell_type": "markdown",
      "metadata": {
        "jukit_cell_id": "UBNPB0xzaA"
      },
      "source": [
        "### SPADL"
      ]
    },
    {
      "cell_type": "code",
      "metadata": {
        "jukit_cell_id": "OkTTlKY9Bb"
      },
      "source": [
        "def spadl_transform(events, team_matches):\n",
        "    spadl = []\n",
        "    game_ids = events.game_id.unique().tolist()\n",
        "    for g in tqdm(game_ids):\n",
        "        match_events = events.loc[events.game_id == g]\n",
        "        match_home_id = team_matches.loc[\n",
        "            (team_matches.matchId == g) & (team_matches.side == \"home\"), \"teamId\"\n",
        "        ].values[0]\n",
        "        match_actions = spd.wyscout.convert_to_actions(\n",
        "            events=match_events, home_team_id=match_home_id\n",
        "        )\n",
        "        match_actions = spd.play_left_to_right(\n",
        "            actions=match_actions, home_team_id=match_home_id\n",
        "        )\n",
        "        match_actions = spd.add_names(match_actions)\n",
        "        spadl.append(match_actions)\n",
        "    spadl = pd.concat(spadl).reset_index(drop=True)\n",
        "\n",
        "    return spadl"
      ],
      "outputs": [],
      "execution_count": null
    },
    {
      "cell_type": "code",
      "metadata": {
        "jukit_cell_id": "4w3jabZ3Vo"
      },
      "source": [
        "spadl = {}\n",
        "for league in leagues:\n",
        "    spadl[league] = spadl_transform(\n",
        "        events=events[league], team_matches=team_matches[league]\n",
        "    )"
      ],
      "outputs": [],
      "execution_count": null
    },
    {
      "cell_type": "markdown",
      "metadata": {
        "jukit_cell_id": "h2txZgYFdH"
      },
      "source": [
        "#### An\u00e1lise: novamente, nesta se\u00e7\u00e3o, os dados s\u00e3o apenas transformados para o formato SPADL. \u00c9 meio for\u00e7ado dizer que isso corresponde a alguma se\u00e7\u00e3o do artigo [1]."
      ]
    },
    {
      "cell_type": "markdown",
      "metadata": {
        "jukit_cell_id": "J1nFnl6qMK"
      },
      "source": [
        "### Constru\u00e7\u00e3o de Heatmaps"
      ]
    },
    {
      "cell_type": "code",
      "metadata": {
        "jukit_cell_id": "OZZJ5clbDL"
      },
      "source": [
        "def construct_heatmaps(spadl, season_minutes, action_type):\n",
        "    heatmaps = {}\n",
        "    if action_type == \"pass\":\n",
        "        heatmaps[\"start\"] = {}\n",
        "        heatmaps[\"end\"] = {}\n",
        "    for player_id in tqdm(season_minutes[\"player_id\"].tolist()):\n",
        "        mask = (spadl[\"player_id\"] == player_id) & (spadl[\"type_name\"] == action_type)\n",
        "        player_actions = spadl[mask]\n",
        "        if action_type != \"pass\":\n",
        "            heatmaps[player_id] = mps.count(\n",
        "                x=player_actions[\"start_x\"], y=player_actions[\"start_y\"], n=25, m=16\n",
        "            )\n",
        "            heatmaps[player_id] *= (\n",
        "                90\n",
        "                / season_minutes[season_minutes[\"player_id\"] == player_id][\n",
        "                    \"minutes_played\"\n",
        "                ].values[0]\n",
        "            )\n",
        "            heatmaps[player_id] = scipy.ndimage.gaussian_filter(heatmaps[player_id], 1)\n",
        "        else:\n",
        "            heatmaps[\"start\"][player_id] = mps.count(\n",
        "                x=player_actions[\"start_x\"], y=player_actions[\"start_y\"], n=25, m=16\n",
        "            )\n",
        "            heatmaps[\"start\"][player_id] *= (\n",
        "                90\n",
        "                / season_minutes[season_minutes[\"player_id\"] == player_id][\n",
        "                    \"minutes_played\"\n",
        "                ].values[0]\n",
        "            )\n",
        "            heatmaps[\"start\"][player_id] = scipy.ndimage.gaussian_filter(\n",
        "                heatmaps[\"start\"][player_id], 1\n",
        "            )\n",
        "            heatmaps[\"end\"][player_id] = mps.count(\n",
        "                x=player_actions[\"end_x\"], y=player_actions[\"end_y\"], n=25, m=16\n",
        "            )\n",
        "            heatmaps[\"end\"][player_id] *= (\n",
        "                90\n",
        "                / season_minutes[season_minutes[\"player_id\"] == player_id][\n",
        "                    \"minutes_played\"\n",
        "                ].values[0]\n",
        "            )\n",
        "            heatmaps[\"end\"][player_id] = scipy.ndimage.gaussian_filter(\n",
        "                heatmaps[\"end\"][player_id], 1\n",
        "            )\n",
        "\n",
        "    return heatmaps"
      ],
      "outputs": [],
      "execution_count": null
    },
    {
      "cell_type": "code",
      "metadata": {
        "jukit_cell_id": "EfsK1l1ea3"
      },
      "source": [
        "season_minutes = {}\n",
        "for league in leagues:\n",
        "    season_minutes[league] = calculate_minutes_per_season(\n",
        "        minutes_per_game=minutes[league]\n",
        "    )\n",
        "    mask = (season_minutes[league][\"minutes_played\"] >= 900) & (\n",
        "        season_minutes[league][\"player_id\"].isin(\n",
        "            players.loc[players[\"role\"] != \"Goalkeeper\", \"player_id\"]\n",
        "        )\n",
        "    )\n",
        "    season_minutes[league] = season_minutes[league][mask]"
      ],
      "outputs": [],
      "execution_count": null
    },
    {
      "cell_type": "code",
      "metadata": {
        "jukit_cell_id": "HwcCEc40cl"
      },
      "source": [
        "action_types = [\"shot\", \"pass\", \"cross\", \"dribble\"]\n",
        "heatmaps = {}\n",
        "for league in leagues:\n",
        "    heatmaps[league] = {}\n",
        "    for at in action_types:\n",
        "        heatmaps[league][at] = construct_heatmaps(\n",
        "            spadl=spadl[league], season_minutes=season_minutes[league], action_type=at\n",
        "        )"
      ],
      "outputs": [],
      "execution_count": null
    },
    {
      "cell_type": "code",
      "metadata": {
        "jukit_cell_id": "kEMwoOoJvo"
      },
      "source": [
        "mps.heatmap(heatmaps[\"Spain\"][\"shot\"][3359])"
      ],
      "outputs": [
        {
          "data": {
            "image/png": "[encoded data removed]"
          },
          "metadata": {},
          "output_type": "display_data"
        },
        {
          "output_type": "stream",
          "name": "stdout",
          "text": "\n"
        },
        {
          "output_type": "execute_result",
          "execution_count": 1,
          "data": {
            "text/plain": "<Axes: >"
          },
          "metadata": {}
        }
      ],
      "execution_count": 1
    },
    {
      "cell_type": "markdown",
      "metadata": {
        "jukit_cell_id": "sGHZmJUSVB"
      },
      "source": [
        "#### An\u00e1lise: este *header* corresponde \u00e0 se\u00e7\u00e3o 4.2 do artigo, pois \u00e9 feita a constru\u00e7\u00e3o dos mapas de calor."
      ]
    },
    {
      "cell_type": "markdown",
      "metadata": {
        "jukit_cell_id": "TUxQAM9y3M"
      },
      "source": [
        "### Comprimindo heatmaps para vetores"
      ]
    },
    {
      "cell_type": "code",
      "metadata": {
        "jukit_cell_id": "qYHmMbFZOs"
      },
      "source": [
        "def heatmaps_to_vectors(heatmaps, action_type):\n",
        "    if action_type != \"pass\":\n",
        "        vectorized_heatmaps = np.array(\n",
        "            [heatmaps[player_id].reshape(-1) for player_id in heatmaps.keys()]\n",
        "        )\n",
        "    else:\n",
        "        vectorized_heatmaps = np.array(\n",
        "            [\n",
        "                np.concatenate(\n",
        "                    [\n",
        "                        heatmaps[\"start\"][player_id].reshape(-1),\n",
        "                        heatmaps[\"end\"][player_id].reshape(-1),\n",
        "                    ]\n",
        "                )\n",
        "                for player_id in heatmaps[\"start\"].keys()\n",
        "            ]\n",
        "        )\n",
        "\n",
        "    return vectorized_heatmaps"
      ],
      "outputs": [],
      "execution_count": null
    },
    {
      "cell_type": "code",
      "metadata": {
        "jukit_cell_id": "f71h8IKSSo"
      },
      "source": [
        "vectorized_heatmaps = {}\n",
        "for league in leagues:\n",
        "    vectorized_heatmaps[league] = {}\n",
        "    for act_type in action_types:\n",
        "        vectorized_heatmaps[league][act_type] = heatmaps_to_vectors(\n",
        "            heatmaps=heatmaps[league][act_type], action_type=act_type\n",
        "        )"
      ],
      "outputs": [],
      "execution_count": null
    },
    {
      "cell_type": "markdown",
      "metadata": {
        "jukit_cell_id": "T0Nc4XXUQd"
      },
      "source": [
        "#### An\u00e1lise: j\u00e1 este *header* corresponde ao come\u00e7o da se\u00e7\u00e3o 4.3, que transforma os mapas de calor em vetores."
      ]
    },
    {
      "cell_type": "markdown",
      "metadata": {
        "jukit_cell_id": "KQHNLM23tJ"
      },
      "source": [
        "### NMF"
      ]
    },
    {
      "cell_type": "code",
      "metadata": {
        "jukit_cell_id": "B21XpkRJql"
      },
      "source": [
        "def nmf_decomposition(vectorized_heatmaps, n_components):\n",
        "    nmf = NMF(n_components=n_components, init=\"nndsvda\", random_state=0)\n",
        "    nmf.fit(vectorized_heatmaps)\n",
        "\n",
        "    return nmf"
      ],
      "outputs": [],
      "execution_count": null
    },
    {
      "cell_type": "code",
      "metadata": {
        "jukit_cell_id": "XO6Az5N8cd"
      },
      "source": [
        "n_components = {\"shot\": 4, \"pass\": 5, \"cross\": 4, \"dribble\": 5}\n",
        "concat_vectors = {}\n",
        "nmfs = {}\n",
        "for act_type in action_types:\n",
        "    concat_vectors[act_type] = np.concatenate(\n",
        "        [\n",
        "            vectorized_heatmaps[\"England\"][act_type],\n",
        "            vectorized_heatmaps[\"Spain\"][act_type],\n",
        "        ]\n",
        "    )\n",
        "    nmfs[act_type] = nmf_decomposition(\n",
        "        vectorized_heatmaps=concat_vectors[act_type],\n",
        "        n_components=n_components[act_type],\n",
        "    )"
      ],
      "outputs": [],
      "execution_count": null
    },
    {
      "cell_type": "markdown",
      "metadata": {
        "jukit_cell_id": "LDeeDA7Wqt"
      },
      "source": [
        "#### An\u00e1lise: este *header* tamb\u00e9m corresponde \u00e0 se\u00e7\u00e3o 4.3. Aqui \u00e9 feita a transforma\u00e7\u00e3o dos vetores em matriz e a redu\u00e7\u00e3o da dimensionalidade dessa matriz, usando o NMF."
      ]
    },
    {
      "cell_type": "markdown",
      "metadata": {
        "jukit_cell_id": "cvWsBcxrac"
      },
      "source": [
        "### Reconstruction Evaluation"
      ]
    },
    {
      "cell_type": "code",
      "metadata": {
        "jukit_cell_id": "4hu9wiU6zA"
      },
      "source": [
        "for act_type in action_types:\n",
        "    print(f\"{act_type} Reconstruction evaluation\\n\")\n",
        "    print(f\"Reconstruction error from NMF object: {nmfs[act_type].reconstruction_err_}\")\n",
        "    reconst_vectors = np.dot(\n",
        "        nmfs[act_type].components_.T,\n",
        "        nmfs[act_type].transform(concat_vectors[act_type]).T,\n",
        "    ).T\n",
        "    reconst_error = np.sqrt(np.sum((concat_vectors[act_type] - reconst_vectors) ** 2))\n",
        "    print(f\"Manual reconstruction error: {reconst_error}\")\n",
        "    print(f\"Mean reconstruction error: {reconst_error/concat_vectors[act_type].shape[1]}\")\n",
        "    print(\"--------------------------------\\n\")"
      ],
      "outputs": [
        {
          "output_type": "stream",
          "name": "stdout",
          "text": "shot Reconstruction evaluation\n\nReconstruction error from NMF object: 1.322487922632152\nManual reconstruction error: 1.3224879184800893\nMean reconstruction error: 0.0033062197962002234\n--------------------------------\n\npass Reconstruction evaluation\n\nReconstruction error from NMF object: 28.19626189362776\nManual reconstruction error: 28.196261647153566\nMean reconstruction error: 0.035245327058941955\n--------------------------------\n\ncross Reconstruction evaluation\n\nReconstruction error from NMF object: 2.3365384800195814\nManual reconstruction error: 2.336538445866538\nMean reconstruction error: 0.005841346114666345\n--------------------------------\n\ndribble Reconstruction evaluation\n\nReconstruction error from NMF object: 4.008096593968764\nManual reconstruction error: 4.008096580590021\nMean reconstruction error: 0.010020241451475051\n--------------------------------\n\n"
        }
      ],
      "execution_count": 2
    },
    {
      "cell_type": "markdown",
      "metadata": {
        "jukit_cell_id": "3ie6MMMnu0"
      },
      "source": [
        "#### An\u00e1lise: este cabe\u00e7alho n\u00e3o faz refer\u00eancia ao texto em si, \u00e9 apenas uma compara\u00e7\u00e3o entre algumas maneiras de se fazer a reconstru\u00e7\u00e3o da matriz (al\u00e9m do NMF)."
      ]
    },
    {
      "cell_type": "markdown",
      "metadata": {
        "jukit_cell_id": "hVOgbZ7ozy"
      },
      "source": [
        "### Deanonymization Evaluation"
      ]
    },
    {
      "cell_type": "code",
      "metadata": {
        "jukit_cell_id": "dN6xYzslOp"
      },
      "source": [
        "matches_1st = {}\n",
        "matches_2nd = {}\n",
        "spadl_1st = {}\n",
        "spadl_2nd = {}\n",
        "season_minutes_1st = {}\n",
        "season_minutes_2nd = {}\n",
        "for league in leagues:\n",
        "    matches[league] = matches[league].sort_values(by=\"dateutc\").reset_index(drop=True)\n",
        "    matches_1st[league] = (\n",
        "        matches[league].loc[: int(len(matches[league]) / 2) - 1, \"wyId\"].values.tolist()\n",
        "    )\n",
        "    matches_2nd[league] = (\n",
        "        matches[league].loc[int(len(matches[league]) / 2) :, \"wyId\"].values.tolist()\n",
        "    )\n",
        "    season_minutes_1st[league] = calculate_minutes_per_season(\n",
        "        minutes[league][minutes[league][\"game_id\"].isin(matches_1st[league])]\n",
        "    )\n",
        "    season_minutes_2nd[league] = calculate_minutes_per_season(\n",
        "        minutes[league][minutes[league][\"game_id\"].isin(matches_2nd[league])]\n",
        "    )\n",
        "    season_minutes_1st[league] = season_minutes_1st[league][\n",
        "        season_minutes_1st[league][\"minutes_played\"] >= 900\n",
        "    ]\n",
        "    season_minutes_2nd[league] = season_minutes_2nd[league][\n",
        "        season_minutes_2nd[league][\"minutes_played\"] >= 900\n",
        "    ]\n",
        "    season_minutes_1st[league] = season_minutes_1st[league][\n",
        "        season_minutes_1st[league][\"player_id\"].isin(\n",
        "            season_minutes_2nd[league][\"player_id\"]\n",
        "        )\n",
        "    ]\n",
        "    season_minutes_2nd[league] = season_minutes_2nd[league][\n",
        "        season_minutes_2nd[league][\"player_id\"].isin(\n",
        "            season_minutes_1st[league][\"player_id\"]\n",
        "        )\n",
        "    ]\n",
        "    mask_1st = (spadl[league][\"game_id\"].isin(matches_1st[league])) & (\n",
        "        spadl[league][\"player_id\"].isin(season_minutes_1st[league][\"player_id\"])\n",
        "    )\n",
        "    spadl_1st[league] = spadl[league][mask_1st]\n",
        "    mask_2nd = (spadl[league][\"game_id\"].isin(matches_2nd[league])) & (\n",
        "        spadl[league][\"player_id\"].isin(season_minutes_2nd[league][\"player_id\"])\n",
        "    )\n",
        "    spadl_2nd[league] = spadl[league][mask_2nd]"
      ],
      "outputs": [],
      "execution_count": null
    },
    {
      "cell_type": "code",
      "metadata": {
        "jukit_cell_id": "cm3IRkfLKX"
      },
      "source": [
        "heatmaps_1st = {}\n",
        "heatmaps_2nd = {}\n",
        "for league in leagues:\n",
        "    heatmaps_1st[league] = {}\n",
        "    heatmaps_2nd[league] = {}\n",
        "    for at in action_types:\n",
        "        heatmaps_1st[league][at] = construct_heatmaps(\n",
        "            spadl=spadl_1st[league],\n",
        "            season_minutes=season_minutes_1st[league],\n",
        "            action_type=at,\n",
        "        )\n",
        "        heatmaps_2nd[league][at] = construct_heatmaps(\n",
        "            spadl=spadl_2nd[league],\n",
        "            season_minutes=season_minutes_2nd[league],\n",
        "            action_type=at,\n",
        "        )"
      ],
      "outputs": [],
      "execution_count": null
    },
    {
      "cell_type": "code",
      "metadata": {
        "jukit_cell_id": "oY4saHwo76"
      },
      "source": [
        "vectorized_heatmaps_1st = {}\n",
        "vectorized_heatmaps_2nd = {}\n",
        "for league in leagues:\n",
        "    vectorized_heatmaps_1st[league] = {}\n",
        "    vectorized_heatmaps_2nd[league] = {}\n",
        "    for act_type in action_types:\n",
        "        vectorized_heatmaps_1st[league][act_type] = heatmaps_to_vectors(\n",
        "            heatmaps=heatmaps_1st[league][act_type], action_type=act_type\n",
        "        )\n",
        "        vectorized_heatmaps_2nd[league][act_type] = heatmaps_to_vectors(\n",
        "            heatmaps=heatmaps_2nd[league][act_type], action_type=act_type\n",
        "        )"
      ],
      "outputs": [],
      "execution_count": null
    },
    {
      "cell_type": "code",
      "metadata": {
        "jukit_cell_id": "EKI9nEXFVY"
      },
      "source": [
        "def coefficients_transform(vectorized_heatmaps, nmf):\n",
        "    return nmf.transform(vectorized_heatmaps)"
      ],
      "outputs": [],
      "execution_count": null
    },
    {
      "cell_type": "code",
      "metadata": {
        "jukit_cell_id": "9d92TF0cMl"
      },
      "source": [
        "vectorized_coefs_1st = {}\n",
        "vectorized_coefs_2nd = {}\n",
        "for league in leagues:\n",
        "    vectorized_coefs_1st[league] = {}\n",
        "    vectorized_coefs_2nd[league] = {}\n",
        "    for act_type in action_types:\n",
        "        vectorized_coefs_1st[league][act_type] = coefficients_transform(\n",
        "            vectorized_heatmaps=vectorized_heatmaps_1st[league][act_type],\n",
        "            nmf=nmfs[act_type],\n",
        "        )\n",
        "        vectorized_coefs_2nd[league][act_type] = coefficients_transform(\n",
        "            vectorized_heatmaps=vectorized_heatmaps_2nd[league][act_type],\n",
        "            nmf=nmfs[act_type],\n",
        "        )"
      ],
      "outputs": [],
      "execution_count": null
    },
    {
      "cell_type": "code",
      "metadata": {
        "jukit_cell_id": "ZFkWJFsY08"
      },
      "source": [
        "player_vectors_1st = {}\n",
        "player_vectors_2nd = {}\n",
        "for league in leagues:\n",
        "    player_vectors_1st[league] = np.concatenate(\n",
        "        [vectorized_coefs_1st[league][act_type] for act_type in action_types], axis=1\n",
        "    )\n",
        "    player_vectors_2nd[league] = np.concatenate(\n",
        "        [vectorized_coefs_2nd[league][act_type] for act_type in action_types], axis=1\n",
        "    )"
      ],
      "outputs": [],
      "execution_count": null
    },
    {
      "cell_type": "code",
      "metadata": {
        "jukit_cell_id": "1wEFseCY1o"
      },
      "source": [
        "player_vectors_1st = np.concatenate([player_vectors_1st[league] for league in leagues])\n",
        "player_vectors_2nd = np.concatenate([player_vectors_2nd[league] for league in leagues])"
      ],
      "outputs": [],
      "execution_count": null
    },
    {
      "cell_type": "code",
      "metadata": {
        "jukit_cell_id": "f0wzy0ZQmp"
      },
      "source": [
        "player_ids = []\n",
        "for league in leagues:\n",
        "    player_ids += list(heatmaps_1st[league][\"shot\"].keys())"
      ],
      "outputs": [],
      "execution_count": null
    },
    {
      "cell_type": "code",
      "metadata": {
        "jukit_cell_id": "kdSV78Q5ql"
      },
      "source": [
        "D = pairwise_distances(player_vectors_1st, player_vectors_2nd, metric=\"manhattan\")\n",
        "\n",
        "# sort each row\n",
        "# k_d = np.sort(D, axis=1)\n",
        "# sort each row and replace distances by index\n",
        "k_i = np.argsort(D, axis=1)\n",
        "# replace indices by player ids\n",
        "p_i = np.take(player_ids, k_i, axis=0)\n",
        "\n",
        "rs = np.argmax(\n",
        "    np.array([p_i[i, :] == player_ids[i] for i in range(p_i.shape[0])]), axis=1\n",
        ")\n",
        "\n",
        "\n",
        "def mean_reciprocal_rank(rs):\n",
        "    return np.mean(1.0 / (rs + 1))\n",
        "\n",
        "\n",
        "def top_k(rs, k):\n",
        "    return (rs < k).sum() / len(rs)\n",
        "\n",
        "\n",
        "mrr = mean_reciprocal_rank(rs)\n",
        "top1 = top_k(rs, 1)\n",
        "top3 = top_k(rs, 3)\n",
        "top5 = top_k(rs, 5)\n",
        "top10 = top_k(rs, 10)"
      ],
      "outputs": [],
      "execution_count": null
    },
    {
      "cell_type": "code",
      "metadata": {
        "jukit_cell_id": "t4cL3FPbSK"
      },
      "source": [
        "print(f\"Top 1 = {round(top1 * 100, 1)}%\")\n",
        "print(f\"Top 3 = {round(top3 * 100, 1)}%\")\n",
        "print(f\"Top 5 = {round(top5 * 100, 1)}%\")\n",
        "print(f\"Top 10 = {round(top10 * 100, 1)}%\")\n",
        "print(f\"MRR = {round(mrr, 3)}\")"
      ],
      "outputs": [
        {
          "output_type": "stream",
          "name": "stdout",
          "text": "Top 1 = 38.3%\nTop 3 = 61.4%\nTop 5 = 70.5%\nTop 10 = 81.9%\nMRR = 0.532\n"
        }
      ],
      "execution_count": 3
    },
    {
      "cell_type": "markdown",
      "metadata": {
        "jukit_cell_id": "uXrhnOH5SP"
      },
      "source": [
        "#### An\u00e1lise: este cabe\u00e7alho \u00e9 referente \u00e0 se\u00e7\u00e3o 5.4, em que se tenta prever os jogadores com base em seu estilo de jogo."
      ]
    },
    {
      "cell_type": "markdown",
      "metadata": {
        "jukit_cell_id": "0K9r6ComVy"
      },
      "source": [
        "### Explore Similar Players"
      ]
    },
    {
      "cell_type": "code",
      "metadata": {
        "jukit_cell_id": "5TlfRHwfWH"
      },
      "source": [
        "vectorized_coefs = {}\n",
        "for league in leagues:\n",
        "    vectorized_coefs[league] = {}\n",
        "    for act_type in action_types:\n",
        "        vectorized_coefs[league][act_type] = coefficients_transform(\n",
        "            vectorized_heatmaps=vectorized_heatmaps[league][act_type],\n",
        "            nmf=nmfs[act_type],\n",
        "        )"
      ],
      "outputs": [],
      "execution_count": null
    },
    {
      "cell_type": "code",
      "metadata": {
        "jukit_cell_id": "SDCoUv17Kv"
      },
      "source": [
        "player_vectors = {}\n",
        "for league in leagues:\n",
        "    player_vectors[league] = np.concatenate(\n",
        "        [vectorized_coefs[league][act_type] for act_type in action_types], axis=1\n",
        "    )"
      ],
      "outputs": [],
      "execution_count": null
    },
    {
      "cell_type": "code",
      "metadata": {
        "jukit_cell_id": "RdJGuYH1Dy"
      },
      "source": [
        "player_vectors = np.concatenate([player_vectors[league] for league in leagues])"
      ],
      "outputs": [],
      "execution_count": null
    },
    {
      "cell_type": "code",
      "metadata": {
        "jukit_cell_id": "TkFj9bym7y"
      },
      "source": [
        "player_ids = []\n",
        "for league in leagues:\n",
        "    player_ids += list(heatmaps[league][\"shot\"].keys())"
      ],
      "outputs": [],
      "execution_count": null
    },
    {
      "cell_type": "code",
      "metadata": {
        "jukit_cell_id": "famwe55DuJ"
      },
      "source": [
        "D = pairwise_distances(player_vectors, player_vectors, metric=\"manhattan\")\n",
        "# sort each row\n",
        "# k_d = np.sort(D, axis=1)\n",
        "# sort each row and replace distances by index\n",
        "k_i = np.argsort(D, axis=1)\n",
        "# replace indices by player ids\n",
        "p_i = np.take(player_ids, k_i, axis=0)"
      ],
      "outputs": [],
      "execution_count": null
    },
    {
      "cell_type": "code",
      "metadata": {
        "jukit_cell_id": "5oc5hhcBB7"
      },
      "source": [
        "similar_players = pd.DataFrame(\n",
        "    data=p_i[:, :11],\n",
        "    columns=[\"player_id\"] + [f\"{i}th_similar\" for i in range(1, 11)],\n",
        ")"
      ],
      "outputs": [],
      "execution_count": null
    },
    {
      "cell_type": "code",
      "metadata": {
        "jukit_cell_id": "DzyHU3bzoQ"
      },
      "source": [
        "players = players[players[\"player_id\"].isin(similar_players[\"player_id\"])].reset_index(\n",
        "    drop=True\n",
        ")"
      ],
      "outputs": [],
      "execution_count": null
    },
    {
      "cell_type": "code",
      "metadata": {
        "jukit_cell_id": "L2bQvyk62q"
      },
      "source": [
        "id_to_name = {}\n",
        "for i in range(len(players)):\n",
        "    id_to_name[players.loc[i, \"player_id\"]] = players.loc[i, \"player_name\"]"
      ],
      "outputs": [],
      "execution_count": null
    },
    {
      "cell_type": "code",
      "metadata": {
        "jukit_cell_id": "3l2IbB0VFP"
      },
      "source": [
        "similar_players = similar_players.replace(id_to_name)\n",
        "similar_players"
      ],
      "outputs": [
        {
          "output_type": "stream",
          "name": "stdout",
          "text": "\n"
        },
        {
          "output_type": "execute_result",
          "execution_count": 4,
          "data": {
            "text/plain": "                         player_id  ...             10th_similar\n0                Toby Alderweireld  ...           Daniele Bonera\n1                   Jan Vertonghen  ...          Antonio R\u00fcdiger\n2     Christian  Dannemann Eriksen  ...               Paul Pogba\n3                    Ragnar Klavan  ...         Aymeric  Laporte\n4        Johann  Berg Gu\u00f0munds\u00adson  ...   Sergio Gont\u00e1n Gallardo\n..                             ...  ...                      ...\n628            Roberto Su\u00e1rez Pier  ...      Claudio Ariel Yacob\n629             Daniel Raba Antol\u00ed  ...          Andros Townsend\n630               Oghenekaro Etebo  ...       Idrissa Gana Gueye\n631              Youssef En-Nesyri  ...              Jamie Vardy\n632  Mart\u00edn Aguirregabiria Padilla  ...  Mart\u00edn Montoya Torralbo\n\n[633 rows x 11 columns]"
          },
          "metadata": {}
        }
      ],
      "execution_count": 4
    },
    {
      "cell_type": "markdown",
      "metadata": {
        "jukit_cell_id": "YAyD1134dD"
      },
      "source": [
        "#### An\u00e1lise: este cabe\u00e7alho faz refer\u00eacia \u00e0 se\u00e7\u00e3o 5.2, que compara jogadores similares. L\u00e1 o objetivo \u00e9 o scouting, tentando validar o modelo, fazendo compara\u00e7\u00f5es de jogadores com base na opini\u00e3o popular."
      ]
    }
  ],
  "metadata": {
    "anaconda-cloud": {},
    "kernelspec": {
      "display_name": "python",
      "language": "python",
      "name": "python3"
    }
  },
  "nbformat": 4,
  "nbformat_minor": 4
}