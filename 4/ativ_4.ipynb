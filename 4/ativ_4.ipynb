{
  "cells": [
    {
      "cell_type": "code",
      "metadata": {
        "jukit_cell_id": "7ra0KERMts"
      },
      "source": [
        "# pyright: reportUnusedExpression=false"
      ],
      "outputs": [],
      "execution_count": null
    },
    {
      "cell_type": "code",
      "metadata": {
        "jukit_cell_id": "lyFGxnQI9p"
      },
      "source": [
        "# Importando bibliotecas\n",
        "from tqdm import tqdm\n",
        "import numpy as np\n",
        "import pandas as pd\n",
        "import socceraction.spadl as spd\n",
        "from socceraction import xthreat as xt"
      ],
      "outputs": [],
      "execution_count": null
    },
    {
      "cell_type": "code",
      "metadata": {
        "jukit_cell_id": "K2BwC6JeSx"
      },
      "source": [
        "from sklearn.linear_model import LogisticRegression\n",
        "from sklearn.model_selection import train_test_split\n",
        "import sklearn.metrics as metrics"
      ],
      "outputs": [],
      "execution_count": null
    },
    {
      "cell_type": "markdown",
      "metadata": {
        "jukit_cell_id": "1CKaF8zuVd"
      },
      "source": [
        "# [CDAF] Atividade 4"
      ]
    },
    {
      "cell_type": "markdown",
      "metadata": {
        "jukit_cell_id": "bDCLDQ3BPV"
      },
      "source": [
        "## Nome e matr\u00edcula\n",
        "Nome: Igor Lacerda Faria da Silva\n",
        "Matr\u00edcula: 2020041973"
      ]
    },
    {
      "cell_type": "markdown",
      "metadata": {
        "jukit_cell_id": "gsvwfbbfWQ"
      },
      "source": [
        "### LaLiga  p/ SPADL com pr\u00e9-processamentos"
      ]
    },
    {
      "cell_type": "code",
      "metadata": {
        "jukit_cell_id": "ISdgdbD1L1"
      },
      "source": [
        "DATA_FOLDER = \"data\""
      ],
      "outputs": [],
      "execution_count": null
    },
    {
      "cell_type": "code",
      "metadata": {
        "jukit_cell_id": "gSQIUK1GmU"
      },
      "source": [
        "# Para o depurador...\n",
        "# DATA_FOLDER = \"../data/\""
      ],
      "outputs": [],
      "execution_count": null
    },
    {
      "cell_type": "code",
      "metadata": {
        "jukit_cell_id": "eYH2fDiFt6"
      },
      "source": [
        "COUNTRY = \"Spain\""
      ],
      "outputs": [],
      "execution_count": null
    },
    {
      "cell_type": "code",
      "metadata": {
        "jukit_cell_id": "ZRDSKmfUhL"
      },
      "source": [
        "# carregando os eventos\n",
        "# path = r\"C:\\Users\\Galo\\Hugo_Personal\\Data\\Wyscout_Top_5\\events\\events_Spain.json\"\n",
        "path = f\"{DATA_FOLDER}/events/events_{COUNTRY}.json\"\n",
        "events = pd.read_json(path_or_buf=path)"
      ],
      "outputs": [],
      "execution_count": null
    },
    {
      "cell_type": "code",
      "metadata": {
        "jukit_cell_id": "VyumaUqtiF"
      },
      "source": [
        "# pr\u00e9 processamento em colunas da tabela de eventos para facilitar a convers\u00e3o p/ SPADL\n",
        "events = events.rename(\n",
        "    columns={\n",
        "        \"id\": \"event_id\",\n",
        "        \"eventId\": \"type_id\",\n",
        "        \"subEventId\": \"subtype_id\",\n",
        "        \"teamId\": \"team_id\",\n",
        "        \"playerId\": \"player_id\",\n",
        "        \"matchId\": \"game_id\",\n",
        "    }\n",
        ")\n",
        "events[\"milliseconds\"] = events[\"eventSec\"] * 1000\n",
        "events[\"period_id\"] = events[\"matchPeriod\"].replace({\"1H\": 1, \"2H\": 2})"
      ],
      "outputs": [],
      "execution_count": null
    },
    {
      "cell_type": "code",
      "metadata": {
        "jukit_cell_id": "YKqum5JZJj"
      },
      "source": [
        "# carregando as partidas, pois vamos saber quais times jogam em casa e fora p/ usar como parametro do SPADL\n",
        "# path = r\"C:\\Users\\Galo\\Hugo_Personal\\Data\\Wyscout_Top_5\\matches\\matches_Spain.json\"\n",
        "path = f\"{DATA_FOLDER}/matches/matches_{COUNTRY}.json\"\n",
        "matches = pd.read_json(path_or_buf=path)"
      ],
      "outputs": [],
      "execution_count": null
    },
    {
      "cell_type": "code",
      "metadata": {
        "jukit_cell_id": "VMQ4nP1dcr"
      },
      "source": [
        "# as informa\u00e7\u00f5es dos times de cada partida est\u00e3o em um dicion\u00e1rio dentro da coluna 'teamsData', ent\u00e3o vamos separar essas informa\u00e7\u00f5es\n",
        "team_matches = []\n",
        "for i in tqdm(range(len(matches))):\n",
        "    teams_data = matches.loc[i, \"teamsData\"]\n",
        "    if isinstance(teams_data, dict):  # check if teams_data is a dictionary-like object\n",
        "        match = pd.DataFrame(teams_data).T\n",
        "        match[\"matchId\"] = matches.loc[i, \"wyId\"]\n",
        "        team_matches.append(match)\n",
        "    else:\n",
        "        # handle the case where teams_data is not a dictionary-like object\n",
        "        print(f\"teamsData for match {matches.loc[i, 'match_id']} is not a dictionary.\")\n",
        "team_matches = pd.concat(team_matches).reset_index(drop=True)"
      ],
      "outputs": [],
      "execution_count": null
    },
    {
      "cell_type": "code",
      "metadata": {
        "jukit_cell_id": "CZfeg1CShd"
      },
      "source": [
        "# fazendo a convers\u00e3o p/ SPADL, padronizando a dire\u00e7\u00e3o de jogo da esquerda p/ a direita e adicionando os nomes dos tipos de a\u00e7\u00f5es\n",
        "actions = []\n",
        "game_ids = events.game_id.unique().tolist()\n",
        "for g in tqdm(game_ids):\n",
        "    match_events = events.loc[events.game_id == g]\n",
        "    match_home_id = team_matches.query(f\"matchId == {g} and side == 'home'\")[\n",
        "        \"teamId\"\n",
        "    ].values[0]\n",
        "    match_actions = spd.wyscout.convert_to_actions(\n",
        "        events=match_events, home_team_id=match_home_id\n",
        "    )\n",
        "    match_actions = spd.play_left_to_right(\n",
        "        actions=match_actions, home_team_id=match_home_id\n",
        "    )\n",
        "    match_actions = spd.add_names(match_actions)\n",
        "    actions.append(match_actions)\n",
        "spadl = pd.concat(actions).reset_index(drop=True)"
      ],
      "outputs": [],
      "execution_count": null
    },
    {
      "cell_type": "code",
      "metadata": {
        "jukit_cell_id": "9ljXuWlgrw"
      },
      "source": [
        "# adicionando o nome dos jogadores\n",
        "# path = r\"C:\\Users\\Galo\\Hugo_Personal\\Data\\Wyscout_Top_5\\players.json\"\n",
        "path = f\"{DATA_FOLDER}/players/players.json\"\n",
        "players = pd.read_json(path_or_buf=path)\n",
        "players[\"player_name\"] = players[\"shortName\"].apply(\n",
        "    lambda x: x.encode(\"utf-8\").decode(\"unicode-escape\")  # conserte as strings\n",
        ")\n",
        "players = players[[\"wyId\", \"player_name\"]].rename(columns={\"wyId\": \"player_id\"})\n",
        "spadl = spadl.merge(players, on=\"player_id\", how=\"left\")"
      ],
      "outputs": [],
      "execution_count": null
    },
    {
      "cell_type": "markdown",
      "metadata": {
        "jukit_cell_id": "VKVu0WiGyt"
      },
      "source": [
        "## Quest\u00e3o 1\n",
        "- Crie um dataframe \"shots\" \u00e0 partir do dataframe \"spadl\", contendo apenas os chutes.\n",
        "- Crie 4 colunas no dataframe \"shots\" a serem usadas como features de um modelo de xG.\n",
        "- Justifique a escolha das features."
      ]
    },
    {
      "cell_type": "code",
      "metadata": {
        "jukit_cell_id": "YK5SD1DFF1"
      },
      "source": [
        "spadl.info()"
      ],
      "outputs": [
        {
          "output_type": "stream",
          "name": "stdout",
          "text": "<class 'pandas.core.frame.DataFrame'>\nInt64Index: 473894 entries, 0 to 473893\nData columns (total 18 columns):\n #   Column             Non-Null Count   Dtype  \n---  ------             --------------   -----  \n 0   game_id            473894 non-null  int64  \n 1   period_id          473894 non-null  int64  \n 2   time_seconds       473894 non-null  float64\n 3   team_id            473894 non-null  int64  \n 4   player_id          473894 non-null  int64  \n 5   start_x            473894 non-null  float64\n 6   start_y            473894 non-null  float64\n 7   end_x              473894 non-null  float64\n 8   end_y              473894 non-null  float64\n 9   original_event_id  441653 non-null  object \n 10  bodypart_id        473894 non-null  int64  \n 11  type_id            473894 non-null  int64  \n 12  result_id          473894 non-null  int64  \n 13  action_id          473894 non-null  int64  \n 14  type_name          473894 non-null  object \n 15  result_name        473894 non-null  object \n 16  bodypart_name      473894 non-null  object \n 17  player_name        470015 non-null  object \ndtypes: float64(5), int64(8), object(5)\nmemory usage: 68.7+ MB\n"
        }
      ],
      "execution_count": 1
    },
    {
      "cell_type": "code",
      "metadata": {
        "jukit_cell_id": "lzd8090FV4"
      },
      "source": [
        "types_of_shot = [\"shot\", \"shot_freekick\", \"shot_penalty\"]\n",
        "df_shots: pd.DataFrame = spadl.query(\"type_name in @types_of_shot\")\n",
        "df_shots"
      ],
      "outputs": [
        {
          "output_type": "stream",
          "name": "stdout",
          "text": "\n"
        },
        {
          "output_type": "execute_result",
          "execution_count": 2,
          "data": {
            "text/plain": "        game_id  period_id  time_seconds  ...  result_name  bodypart_name        player_name\n20      2565548          1     57.771186  ...         fail           foot  Jos\u00e9 Luis Morales\n22      2565548          1     60.727239  ...         fail           foot           J. Lerma\n93      2565548          1    446.986112  ...         fail           foot           C. Bacca\n96      2565548          1    488.929113  ...         fail           foot        A. Rukavina\n178     2565548          1    948.872079  ...         fail           foot  Jos\u00e9 Luis Morales\n...         ...        ...           ...  ...          ...            ...                ...\n473673  2565927          2   1944.188119  ...         fail           foot        R. Mart\u00ednez\n473806  2565927          2   2385.837008  ...      success           foot    Samu Castillejo\n473828  2565927          2   2672.823612  ...         fail           foot    Samu Castillejo\n473851  2565927          2   2722.835144  ...         fail           foot         K. Benzema\n473878  2565927          2   2857.346465  ...         fail           foot      Lucas V\u00e1zquez\n\n[8545 rows x 18 columns]"
          },
          "metadata": {}
        }
      ],
      "execution_count": 2
    },
    {
      "cell_type": "code",
      "metadata": {
        "jukit_cell_id": "mJNtt7hPxt"
      },
      "source": [
        "GOAL_CENTER_X: int = 105\n",
        "GOAL_CENTER_Y: int = 34\n",
        "\n",
        "UPPER_CROSSBAR_X: int = 105\n",
        "UPPER_CROSSBAR_Y: int = 38\n",
        "\n",
        "LOWER_CROSSBAR_X: int = 105\n",
        "LOWER_CROSSBAR_Y: int = 30"
      ],
      "outputs": [],
      "execution_count": null
    },
    {
      "cell_type": "code",
      "metadata": {
        "jukit_cell_id": "cyjqzX1H9d"
      },
      "source": [
        "df_shots[\"shot_distance\"] = np.sqrt(\n",
        "    (df_shots[\"start_x\"] - GOAL_CENTER_X) ** 2\n",
        "    + (df_shots[\"start_y\"] - GOAL_CENTER_Y) ** 2\n",
        ")"
      ],
      "outputs": [],
      "execution_count": null
    },
    {
      "cell_type": "code",
      "metadata": {
        "jukit_cell_id": "e72in88qQT"
      },
      "source": [
        "def get_shot_angle(shot_pos_x, shot_pos_y):\n",
        "    u = np.array([UPPER_CROSSBAR_X - shot_pos_x, UPPER_CROSSBAR_Y - shot_pos_y])\n",
        "    v = np.array([LOWER_CROSSBAR_X - shot_pos_x, LOWER_CROSSBAR_Y - shot_pos_y])\n",
        "    return np.arccos(np.dot(u / np.linalg.norm(u), v / np.linalg.norm(v)))\n",
        "\n",
        "\n",
        "df_shots[\"shot_angle\"] = df_shots[[\"start_x\", \"start_y\"]].apply(\n",
        "    lambda pos: get_shot_angle(pos[\"start_x\"], pos[\"start_y\"]), axis=1\n",
        ")"
      ],
      "outputs": [],
      "execution_count": null
    },
    {
      "cell_type": "code",
      "metadata": {
        "jukit_cell_id": "xYyvBDX9Wg"
      },
      "source": [
        "df_shots[\"distance_x_angle\"] = df_shots[\"shot_angle\"] * df_shots[\"shot_distance\"]"
      ],
      "outputs": [],
      "execution_count": null
    },
    {
      "cell_type": "code",
      "metadata": {
        "jukit_cell_id": "gYP2FbZaKR"
      },
      "source": [
        "df_shots[\"bodypart_weight\"] = df_shots[\"bodypart_name\"].apply(\n",
        "    lambda x: 1 if x == \"foot\" else 0.3\n",
        ")"
      ],
      "outputs": [],
      "execution_count": null
    },
    {
      "cell_type": "code",
      "metadata": {
        "jukit_cell_id": "Rwe9ZGjRBv"
      },
      "source": [
        "df_shots.info()"
      ],
      "outputs": [
        {
          "output_type": "stream",
          "name": "stdout",
          "text": "<class 'pandas.core.frame.DataFrame'>\nInt64Index: 8545 entries, 20 to 473878\nData columns (total 22 columns):\n #   Column             Non-Null Count  Dtype  \n---  ------             --------------  -----  \n 0   game_id            8545 non-null   int64  \n 1   period_id          8545 non-null   int64  \n 2   time_seconds       8545 non-null   float64\n 3   team_id            8545 non-null   int64  \n 4   player_id          8545 non-null   int64  \n 5   start_x            8545 non-null   float64\n 6   start_y            8545 non-null   float64\n 7   end_x              8545 non-null   float64\n 8   end_y              8545 non-null   float64\n 9   original_event_id  8545 non-null   object \n 10  bodypart_id        8545 non-null   int64  \n 11  type_id            8545 non-null   int64  \n 12  result_id          8545 non-null   int64  \n 13  action_id          8545 non-null   int64  \n 14  type_name          8545 non-null   object \n 15  result_name        8545 non-null   object \n 16  bodypart_name      8545 non-null   object \n 17  player_name        8544 non-null   object \n 18  shot_distance      8545 non-null   float64\n 19  shot_angle         8545 non-null   float64\n 20  distance_x_angle   8545 non-null   float64\n 21  bodypart_weight    8545 non-null   float64\ndtypes: float64(9), int64(8), object(5)\nmemory usage: 1.5+ MB\n"
        }
      ],
      "execution_count": 3
    },
    {
      "cell_type": "markdown",
      "metadata": {
        "jukit_cell_id": "wPTNZywTMu"
      },
      "source": [
        "### Escolhas\n",
        "\n",
        "- Dist\u00e2ncia: um candidato \u00f3bvio, pois \u00e9 muito mais f\u00e1cil acertar chutes de perto.\n",
        "\n",
        "- \u00c2ngulo: outro par\u00e2metro cl\u00e1ssico, sem muito o que falar. \n",
        "\n",
        "- `distance_x_angle`: aumentando o peso dos par\u00e2metros tradicionais, peguei mais porque o Meira comentou em uma das aulas.\n",
        "\n",
        "- `bodypart_weight`: pra fechar o time com chave de ouro, \u00e9 reduzido o peso de partes do corpo que n\u00e3o s\u00e3o os p\u00e9s, porque, presumivelmente, \u00e9 mais dif\u00edfil fazer gol com outras partes."
      ]
    },
    {
      "cell_type": "markdown",
      "metadata": {
        "jukit_cell_id": "fDg8yzZCFK"
      },
      "source": [
        "## Quest\u00e3o 2\n",
        "- Crie uma coluna num\u00e9rica bin\u00e1ria \"goal\" no dataframe \"shots\" indicando se o chute resultou em gol ou n\u00e3o.\n",
        "- Use regress\u00e3o log\u00edstica p/ treinar (.fit(X_train, y_train)) um modelo de xG usando as features criadas na quest\u00e3o 1.\n",
        "- Use 70% dos dados para treino e 30% para teste.\n",
        "- Reporte a acur\u00e1cia do modelo para os conjuntos de treino (.score(X_train, y_train)) e teste (.score(X_test, y_test))."
      ]
    },
    {
      "cell_type": "code",
      "metadata": {
        "jukit_cell_id": "VN08nih8oc"
      },
      "source": [
        "# N\u00e3o \u00e9 necess\u00e1rio criar uma coluna nova, basta usar a coluna de result_id"
      ],
      "outputs": [],
      "execution_count": null
    },
    {
      "cell_type": "code",
      "metadata": {
        "jukit_cell_id": "7YiqfwIbYc"
      },
      "source": [
        "x_train, x_test, y_train, y_test = train_test_split(\n",
        "    df_shots[[\"shot_distance\", \"shot_angle\", \"distance_x_angle\", \"bodypart_weight\"]],\n",
        "    df_shots[\"result_id\"],\n",
        "    test_size=0.3,\n",
        ")"
      ],
      "outputs": [],
      "execution_count": null
    },
    {
      "cell_type": "code",
      "metadata": {
        "jukit_cell_id": "ISRC6kljdP"
      },
      "source": [
        "model = LogisticRegression()\n",
        "model.fit(x_train, y_train)"
      ],
      "outputs": [
        {
          "output_type": "stream",
          "name": "stdout",
          "text": "\n"
        },
        {
          "output_type": "execute_result",
          "execution_count": 4,
          "data": {
            "text/plain": "LogisticRegression()"
          },
          "metadata": {}
        }
      ],
      "execution_count": 4
    },
    {
      "cell_type": "code",
      "metadata": {
        "jukit_cell_id": "DXkZK9UYt2"
      },
      "source": [
        "y_train_acc = model.score(x_train, y_train)\n",
        "y_test_acc = model.score(x_test, y_test)\n",
        "\n",
        "print(f\"Acur\u00e1cia nos dados de treino: {y_train_acc}\")\n",
        "print(f\"Acur\u00e1cia nos dados de teste: {y_test_acc}\")"
      ],
      "outputs": [
        {
          "output_type": "stream",
          "name": "stdout",
          "text": "Acur\u00e1cia nos dados de treino: 0.8891489717438555\nAcur\u00e1cia nos dados de teste: 0.8833853354134166\n"
        }
      ],
      "execution_count": 5
    },
    {
      "cell_type": "code",
      "metadata": {
        "jukit_cell_id": "n4IS2mRKCA"
      },
      "source": [
        "y_pred = model.predict(x_test)\n",
        "cm = metrics.confusion_matrix(y_pred, y_test)\n",
        "cm_display = metrics.ConfusionMatrixDisplay(\n",
        "    confusion_matrix=cm, display_labels=[\"no goal\", \"goal\"]\n",
        ")\n",
        "cm_display.plot()"
      ],
      "outputs": [
        {
          "output_type": "stream",
          "name": "stdout",
          "text": "\n"
        },
        {
          "data": {
            "image/png": "[encoded data removed]"
          },
          "metadata": {},
          "output_type": "display_data"
        },
        {
          "output_type": "stream",
          "name": "stdout",
          "text": "\n"
        },
        {
          "output_type": "execute_result",
          "execution_count": 6,
          "data": {
            "text/plain": "<sklearn.metrics._plot.confusion_matrix.ConfusionMatrixDisplay at 0x7f3e1de1beb0>"
          },
          "metadata": {}
        }
      ],
      "execution_count": 6
    },
    {
      "cell_type": "markdown",
      "metadata": {
        "jukit_cell_id": "oK1NilaAH8"
      },
      "source": [
        "## Quest\u00e3o 3\n",
        "- Use o modelo treinado na quest\u00e3o 2 p/ prever a probabilidade de gol de todos os chutes do dataframe \"shots\". Reporte essas probabilidades no dataframe \"shots\" em uma coluna \"xG\".\n",
        "- Agrupe o dataframe \"shots\" por \"player_name\" e reporte a soma dos \"goal\" e \"xG\".\n",
        "- Reporte os 10 jogadores com maior xG.\n",
        "- Reporte os 10 jogadores com maior diferen\u00e7a de Gols e xG."
      ]
    },
    {
      "cell_type": "code",
      "metadata": {
        "jukit_cell_id": "aKDODp8nxt"
      },
      "source": [
        "probabilities = model.predict_proba(\n",
        "    df_shots[[\"shot_distance\", \"shot_angle\", \"distance_x_angle\", \"bodypart_weight\"]]\n",
        ")\n",
        "df_shots[\"xG\"] = probabilities[:, 1]\n",
        "df_shots[\"xG\"]"
      ],
      "outputs": [
        {
          "output_type": "stream",
          "name": "stdout",
          "text": "\n"
        },
        {
          "output_type": "execute_result",
          "execution_count": 7,
          "data": {
            "text/plain": "20        0.112814\n22        0.062298\n93        0.180006\n96        0.086693\n178       0.033179\n            ...   \n473673    0.086017\n473806    0.044325\n473828    0.021580\n473851    0.043409\n473878    0.180006\nName: xG, Length: 8545, dtype: float64"
          },
          "metadata": {}
        }
      ],
      "execution_count": 7
    },
    {
      "cell_type": "code",
      "metadata": {
        "jukit_cell_id": "WdexzZLRR5"
      },
      "source": [
        "columns = [\"result_id\", \"xG\"]\n",
        "shots_by_player = df_shots.groupby([\"player_name\"])[columns].sum()\n",
        "shots_by_player"
      ],
      "outputs": [
        {
          "output_type": "stream",
          "name": "stdout",
          "text": "\n"
        },
        {
          "output_type": "execute_result",
          "execution_count": 8,
          "data": {
            "text/plain": "                result_id        xG\nplayer_name                        \nA. Aquilani             0  0.769327\nA. Arribas              0  0.077680\nA. Fern\u00e1ndez            0  0.026776\nA. Griezmann           19  9.123515\nA. Guardado             2  2.043292\n...                   ...       ...\n\u00cd\u00f1igo Mart\u00ednez          1  2.153181\n\u00d3. Duarte               0  1.470785\n\u00d3scar Melendo           0  0.758344\n\u00d3scar Romero            0  0.163217\n\u0160. Vrsaljko             0  0.422765\n\n[452 rows x 2 columns]"
          },
          "metadata": {}
        }
      ],
      "execution_count": 8
    },
    {
      "cell_type": "code",
      "metadata": {
        "jukit_cell_id": "E0WBlB0DTJ"
      },
      "source": [
        "shots_by_player.sort_values(\"xG\", ascending=False).head(10)"
      ],
      "outputs": [
        {
          "output_type": "stream",
          "name": "stdout",
          "text": "\n"
        },
        {
          "output_type": "execute_result",
          "execution_count": 9,
          "data": {
            "text/plain": "                   result_id         xG\nplayer_name                            \nCristiano Ronaldo         26  26.071219\nL. Messi                  34  22.064910\nL. Su\u00e1rez                 25  21.950556\nGerard Moreno             16  15.967054\nIago Aspas                22  14.729205\nMaxi G\u00f3mez                18  14.320457\nC. Stuani                 21  13.285273\nC. Bacca                  15  11.026409\nJ. Calleri                 9  10.849497\nJorge Molina               7  10.689162"
          },
          "metadata": {}
        }
      ],
      "execution_count": 9
    },
    {
      "cell_type": "code",
      "metadata": {
        "jukit_cell_id": "bF04UleYMa"
      },
      "source": [
        "shots_by_player[\"diff\"] = shots_by_player[\"result_id\"] - shots_by_player[\"xG\"]"
      ],
      "outputs": [],
      "execution_count": null
    },
    {
      "cell_type": "code",
      "metadata": {
        "jukit_cell_id": "3gBTtlbRpu"
      },
      "source": [
        "shots_by_player.sort_values(\"diff\", ascending=False)[columns].head(10)"
      ],
      "outputs": [
        {
          "output_type": "stream",
          "name": "stdout",
          "text": "\n"
        },
        {
          "output_type": "execute_result",
          "execution_count": 10,
          "data": {
            "text/plain": "                 result_id         xG\nplayer_name                          \nL. Messi                34  22.064910\nA. Griezmann            19   9.123515\nC. Stuani               21  13.285273\nIago Aspas              22  14.729205\nE. Bardhi                9   2.232741\nG. Bale                 16   9.794341\nRodrigo                 16  10.674823\nMikel Oyarzabal         12   6.823400\nA. Sanabria              8   3.333896\n\u00c1ngel                   13   8.423913"
          },
          "metadata": {}
        }
      ],
      "execution_count": 10
    },
    {
      "cell_type": "markdown",
      "metadata": {
        "jukit_cell_id": "XQ150xYhxw"
      },
      "source": [
        "## Quest\u00e3o 4\n",
        "- Instancie um objeto ExpectedThreat com par\u00e2metros l=25 e w=16.\n",
        "- Fa\u00e7a o fit do modelo ExpectedThreat com o dataframe \"spadl\"."
      ]
    },
    {
      "cell_type": "code",
      "metadata": {
        "jukit_cell_id": "ykmZuVHRI8"
      },
      "source": [
        "xT = xt.ExpectedThreat(l=25, w=16)\n",
        "step = 5000\n",
        "acc_xT = np.zeros((16, 25))\n",
        "for i in range(0, len(spadl), step):\n",
        "    xT.fit(spadl[i : i + step])\n",
        "    acc_xT += xT.xT"
      ],
      "outputs": [
        {
          "output_type": "stream",
          "name": "stdout",
          "text": "# iterations:  1\n# iterations:  1\n# iterations:  1\n# iterations:  1\n# iterations:  17\n# iterations:  19\n# iterations:  1\n# iterations:  1\n# iterations:  20\n# iterations:  23\n# iterations:  1\n# iterations:  1\n# iterations:  19\n# iterations:  19\n# iterations:  19\n# iterations:  2\n# iterations:  1\n# iterations:  1\n# iterations:  1\n# iterations:  19\n# iterations:  1\n# iterations:  31\n# iterations:  1\n# iterations:  1\n# iterations:  2\n# iterations:  1\n# iterations:  1\n# iterations:  23\n# iterations:  2\n# iterations:  1\n# iterations:  2\n# iterations:  20\n# iterations:  2\n# iterations:  1\n# iterations:  1\n# iterations:  1\n# iterations:  2\n# iterations:  22\n# iterations:  1\n# iterations:  22\n# iterations:  1\n# iterations:  1\n# iterations:  3\n# iterations:  1\n# iterations:  1\n# iterations:  3\n# iterations:  1\n# iterations:  2\n# iterations:  1\n# iterations:  20\n# iterations:  22\n# iterations:  2\n# iterations:  1\n# iterations:  1\n# iterations:  18\n# iterations:  2\n# iterations:  1\n# iterations:  1\n# iterations:  1\n# iterations:  1\n# iterations:  19\n# iterations:  22\n# iterations:  2\n# iterations:  1\n# iterations:  1\n# iterations:  1\n# iterations:  1\n# iterations:  1\n# iterations:  1\n# iterations:  2\n# iterations:  1\n# iterations:  1\n# iterations:  24\n# iterations:  2\n# iterations:  1\n# iterations:  1\n# iterations:  17\n# iterations:  1\n# iterations:  2\n# iterations:  22\n# iterations:  19\n# iterations:  1\n# iterations:  19\n# iterations:  13\n# iterations:  1\n# iterations:  2\n# iterations:  1\n# iterations:  1\n# iterations:  1\n# iterations:  1\n# iterations:  1\n# iterations:  19\n# iterations:  1\n# iterations:  2\n# iterations:  2\n"
        }
      ],
      "execution_count": 11
    },
    {
      "cell_type": "markdown",
      "metadata": {
        "jukit_cell_id": "alvrNx7zSg"
      },
      "source": [
        "## Quest\u00e3o 5\n",
        "- Crie um dataframe \"prog_actions\" \u00e0 partir do dataframe \"spadl\", contendo apenas as a\u00e7\u00f5es de progress\u00e3o e que s\u00e3o bem-sucedidas.\n",
        "- Use o m\u00e9todo rate do objeto ExpectedThreat p/ calcular o valor de cada a\u00e7\u00e3o de progress\u00e3o do dataframe \"prog_actions\", em uma coluna chamada \"action_value\".\n",
        "- Agrupe o dataframe \"prog_actions\" por \"player_name\" e reporte a soma dos \"action_value\".\n",
        "- Reporte os 10 jogadores com maior \"action_value\"."
      ]
    },
    {
      "cell_type": "code",
      "metadata": {
        "jukit_cell_id": "nsWkC0TDFx"
      },
      "source": [
        "prog_actions = xt.get_successful_move_actions(spadl)\n",
        "xT.xT = acc_xT\n",
        "prog_actions[\"action_value\"] = xT.rate(prog_actions)"
      ],
      "outputs": [],
      "execution_count": null
    },
    {
      "cell_type": "code",
      "metadata": {
        "jukit_cell_id": "WypxX7D61v"
      },
      "source": [
        "action_value = prog_actions.groupby(\"player_name\")[\"action_value\"].sum()"
      ],
      "outputs": [],
      "execution_count": null
    },
    {
      "cell_type": "code",
      "metadata": {
        "jukit_cell_id": "8E4c6JZ24c"
      },
      "source": [
        "action_value.nlargest(n=10)"
      ],
      "outputs": [
        {
          "output_type": "stream",
          "name": "stdout",
          "text": "\n"
        },
        {
          "output_type": "execute_result",
          "execution_count": 12,
          "data": {
            "text/plain": "player_name\nJos\u00e9 Luis Morales    97.141770\nPortu                90.276712\nL. Messi             90.226312\nLucas V\u00e1zquez        81.393274\nIsco                 71.801897\nMarcelo              68.236663\nP. Sisto             65.979041\nGon\u00e7alo Guedes       64.054006\nA. Guardado          61.597146\nJos\u00e9 Gay\u00e1            61.447502\nName: action_value, dtype: float64"
          },
          "metadata": {}
        }
      ],
      "execution_count": 12
    }
  ],
  "metadata": {
    "anaconda-cloud": {},
    "kernelspec": {
      "display_name": "python",
      "language": "python",
      "name": "python3"
    }
  },
  "nbformat": 4,
  "nbformat_minor": 4
}